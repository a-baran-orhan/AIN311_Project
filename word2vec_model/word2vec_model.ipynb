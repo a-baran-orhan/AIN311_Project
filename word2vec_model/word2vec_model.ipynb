{
  "nbformat": 4,
  "nbformat_minor": 0,
  "metadata": {
    "colab": {
      "provenance": [],
      "collapsed_sections": [
        "I_GLEeB8OcJh",
        "C6OpiJMbOg7J",
        "ReWc5N2QcUhv",
        "06jwNZr9C9kQ",
        "4XyXIK18Puym"
      ]
    },
    "kernelspec": {
      "name": "python3",
      "display_name": "Python 3"
    },
    "language_info": {
      "name": "python"
    }
  },
  "cells": [
    {
      "cell_type": "code",
      "source": [
        "nltk.download('punkt')\n",
        "nltk.download('stopwords')\n",
        "nltk.download('wordnet')\n",
        "nltk.download('omw-1.4')"
      ],
      "metadata": {
        "colab": {
          "base_uri": "https://localhost:8080/"
        },
        "id": "smt4TMcNtH-m",
        "outputId": "cf60fdb7-a996-4db7-885d-10ba5598657f"
      },
      "execution_count": 3,
      "outputs": [
        {
          "output_type": "stream",
          "name": "stderr",
          "text": [
            "[nltk_data] Downloading package punkt to /root/nltk_data...\n",
            "[nltk_data]   Unzipping tokenizers/punkt.zip.\n",
            "[nltk_data] Downloading package stopwords to /root/nltk_data...\n",
            "[nltk_data]   Unzipping corpora/stopwords.zip.\n",
            "[nltk_data] Downloading package wordnet to /root/nltk_data...\n",
            "[nltk_data] Downloading package omw-1.4 to /root/nltk_data...\n"
          ]
        },
        {
          "output_type": "execute_result",
          "data": {
            "text/plain": [
              "True"
            ]
          },
          "metadata": {},
          "execution_count": 3
        }
      ]
    },
    {
      "cell_type": "markdown",
      "source": [
        "# Import Libraries"
      ],
      "metadata": {
        "id": "1AHELuB8OWsu"
      }
    },
    {
      "cell_type": "code",
      "execution_count": 43,
      "metadata": {
        "id": "8SCF6m7wtiV4"
      },
      "outputs": [],
      "source": [
        "import pandas as pd\n",
        "import re\n",
        "from gensim.models import Word2Vec\n",
        "from nltk import word_tokenize\n",
        "import gensim\n",
        "from nltk.corpus import stopwords\n",
        "import nltk\n",
        "from string import punctuation\n",
        "from nltk.stem import WordNetLemmatizer\n",
        "from nltk.stem import PorterStemmer\n",
        "from collections import Counter\n",
        "from scipy.spatial.distance import cosine\n",
        "import numpy as np\n",
        "from gensim.models import Word2Vec, KeyedVectors"
      ]
    },
    {
      "cell_type": "code",
      "source": [
        "import logging\n",
        "#used for word2vec warnings\n",
        "# Disable warning messages from being printed to the console\n",
        "logging.disable(logging.WARNING)"
      ],
      "metadata": {
        "id": "XFLjAw8x23NY"
      },
      "execution_count": 45,
      "outputs": []
    },
    {
      "cell_type": "markdown",
      "source": [
        "# SKILL"
      ],
      "metadata": {
        "id": "SHwsHmcB-ank"
      }
    },
    {
      "cell_type": "markdown",
      "source": [
        "## Reading Skills"
      ],
      "metadata": {
        "id": "I_GLEeB8OcJh"
      }
    },
    {
      "cell_type": "code",
      "source": [
        "df_skill = pd.read_csv(\"ML_skills.csv\", header=None, sep=\";\")\n",
        "df_skill[\"skills\"] = [row.split(\"{\")[2] for row in df_skill[0]]\n",
        "df_skill= df_skill.drop(columns=0,axis=1)\n",
        "df_skill.head()"
      ],
      "metadata": {
        "id": "J3ArX_5Rt4GV",
        "colab": {
          "base_uri": "https://localhost:8080/"
        },
        "outputId": "4d8f9fd4-cefe-42c9-a20c-6dd534c83e7d"
      },
      "execution_count": null,
      "outputs": [
        {
          "output_type": "execute_result",
          "data": {
            "text/plain": [
              "                                              skills\n",
              "0  'name': 'Anindya Saha', 'skill': ['Java', 'Pyt...\n",
              "1  'name': 'M. Ozan Tezcan', 'skill': ['Java', 'C...\n",
              "2  'name': 'Clare C.', 'skill': ['Software Engine...\n",
              "3  'name': 'Shaswat Babhulgaonkar', 'skill': ['So...\n",
              "4  'name': 'Sai Gurrapu', 'skill': ['Machine Lear..."
            ],
            "text/html": [
              "\n",
              "  <div id=\"df-9fb077e0-e085-4038-a801-0a38c8b4aec4\">\n",
              "    <div class=\"colab-df-container\">\n",
              "      <div>\n",
              "<style scoped>\n",
              "    .dataframe tbody tr th:only-of-type {\n",
              "        vertical-align: middle;\n",
              "    }\n",
              "\n",
              "    .dataframe tbody tr th {\n",
              "        vertical-align: top;\n",
              "    }\n",
              "\n",
              "    .dataframe thead th {\n",
              "        text-align: right;\n",
              "    }\n",
              "</style>\n",
              "<table border=\"1\" class=\"dataframe\">\n",
              "  <thead>\n",
              "    <tr style=\"text-align: right;\">\n",
              "      <th></th>\n",
              "      <th>skills</th>\n",
              "    </tr>\n",
              "  </thead>\n",
              "  <tbody>\n",
              "    <tr>\n",
              "      <th>0</th>\n",
              "      <td>'name': 'Anindya Saha', 'skill': ['Java', 'Pyt...</td>\n",
              "    </tr>\n",
              "    <tr>\n",
              "      <th>1</th>\n",
              "      <td>'name': 'M. Ozan Tezcan', 'skill': ['Java', 'C...</td>\n",
              "    </tr>\n",
              "    <tr>\n",
              "      <th>2</th>\n",
              "      <td>'name': 'Clare C.', 'skill': ['Software Engine...</td>\n",
              "    </tr>\n",
              "    <tr>\n",
              "      <th>3</th>\n",
              "      <td>'name': 'Shaswat Babhulgaonkar', 'skill': ['So...</td>\n",
              "    </tr>\n",
              "    <tr>\n",
              "      <th>4</th>\n",
              "      <td>'name': 'Sai Gurrapu', 'skill': ['Machine Lear...</td>\n",
              "    </tr>\n",
              "  </tbody>\n",
              "</table>\n",
              "</div>\n",
              "      <button class=\"colab-df-convert\" onclick=\"convertToInteractive('df-9fb077e0-e085-4038-a801-0a38c8b4aec4')\"\n",
              "              title=\"Convert this dataframe to an interactive table.\"\n",
              "              style=\"display:none;\">\n",
              "        \n",
              "  <svg xmlns=\"http://www.w3.org/2000/svg\" height=\"24px\"viewBox=\"0 0 24 24\"\n",
              "       width=\"24px\">\n",
              "    <path d=\"M0 0h24v24H0V0z\" fill=\"none\"/>\n",
              "    <path d=\"M18.56 5.44l.94 2.06.94-2.06 2.06-.94-2.06-.94-.94-2.06-.94 2.06-2.06.94zm-11 1L8.5 8.5l.94-2.06 2.06-.94-2.06-.94L8.5 2.5l-.94 2.06-2.06.94zm10 10l.94 2.06.94-2.06 2.06-.94-2.06-.94-.94-2.06-.94 2.06-2.06.94z\"/><path d=\"M17.41 7.96l-1.37-1.37c-.4-.4-.92-.59-1.43-.59-.52 0-1.04.2-1.43.59L10.3 9.45l-7.72 7.72c-.78.78-.78 2.05 0 2.83L4 21.41c.39.39.9.59 1.41.59.51 0 1.02-.2 1.41-.59l7.78-7.78 2.81-2.81c.8-.78.8-2.07 0-2.86zM5.41 20L4 18.59l7.72-7.72 1.47 1.35L5.41 20z\"/>\n",
              "  </svg>\n",
              "      </button>\n",
              "      \n",
              "  <style>\n",
              "    .colab-df-container {\n",
              "      display:flex;\n",
              "      flex-wrap:wrap;\n",
              "      gap: 12px;\n",
              "    }\n",
              "\n",
              "    .colab-df-convert {\n",
              "      background-color: #E8F0FE;\n",
              "      border: none;\n",
              "      border-radius: 50%;\n",
              "      cursor: pointer;\n",
              "      display: none;\n",
              "      fill: #1967D2;\n",
              "      height: 32px;\n",
              "      padding: 0 0 0 0;\n",
              "      width: 32px;\n",
              "    }\n",
              "\n",
              "    .colab-df-convert:hover {\n",
              "      background-color: #E2EBFA;\n",
              "      box-shadow: 0px 1px 2px rgba(60, 64, 67, 0.3), 0px 1px 3px 1px rgba(60, 64, 67, 0.15);\n",
              "      fill: #174EA6;\n",
              "    }\n",
              "\n",
              "    [theme=dark] .colab-df-convert {\n",
              "      background-color: #3B4455;\n",
              "      fill: #D2E3FC;\n",
              "    }\n",
              "\n",
              "    [theme=dark] .colab-df-convert:hover {\n",
              "      background-color: #434B5C;\n",
              "      box-shadow: 0px 1px 3px 1px rgba(0, 0, 0, 0.15);\n",
              "      filter: drop-shadow(0px 1px 2px rgba(0, 0, 0, 0.3));\n",
              "      fill: #FFFFFF;\n",
              "    }\n",
              "  </style>\n",
              "\n",
              "      <script>\n",
              "        const buttonEl =\n",
              "          document.querySelector('#df-9fb077e0-e085-4038-a801-0a38c8b4aec4 button.colab-df-convert');\n",
              "        buttonEl.style.display =\n",
              "          google.colab.kernel.accessAllowed ? 'block' : 'none';\n",
              "\n",
              "        async function convertToInteractive(key) {\n",
              "          const element = document.querySelector('#df-9fb077e0-e085-4038-a801-0a38c8b4aec4');\n",
              "          const dataTable =\n",
              "            await google.colab.kernel.invokeFunction('convertToInteractive',\n",
              "                                                     [key], {});\n",
              "          if (!dataTable) return;\n",
              "\n",
              "          const docLinkHtml = 'Like what you see? Visit the ' +\n",
              "            '<a target=\"_blank\" href=https://colab.research.google.com/notebooks/data_table.ipynb>data table notebook</a>'\n",
              "            + ' to learn more about interactive tables.';\n",
              "          element.innerHTML = '';\n",
              "          dataTable['output_type'] = 'display_data';\n",
              "          await google.colab.output.renderOutput(dataTable, element);\n",
              "          const docLink = document.createElement('div');\n",
              "          docLink.innerHTML = docLinkHtml;\n",
              "          element.appendChild(docLink);\n",
              "        }\n",
              "      </script>\n",
              "    </div>\n",
              "  </div>\n",
              "  "
            ]
          },
          "metadata": {},
          "execution_count": 466
        }
      ]
    },
    {
      "cell_type": "code",
      "source": [
        "df_skill['skills'] = df_skill['skills'].apply(lambda x: x.split(\", 'skill'\")[1])\n",
        "def clean(text):\n",
        "    cleaned_text = text[2:-3]\n",
        "    a = cleaned_text.split(\", \")\n",
        "    a = [i[1:-1] for i in a]\n",
        "    return a\n",
        "\n",
        "df_skill[\"skills\"] = df_skill[\"skills\"].apply(clean)\n",
        "f = lambda x: ','.join(map(str, x)) if isinstance(x, list) else x\n",
        "df_skill['skills'] = df_skill['skills'].apply(f)\n",
        "df_skill['skills'] = df_skill['skills'].apply(lambda x: x.replace(\"'\", ''))\n",
        "df_skill['skills'] = df_skill['skills'].str.lower()"
      ],
      "metadata": {
        "id": "DySIfV8BN5UE"
      },
      "execution_count": null,
      "outputs": []
    },
    {
      "cell_type": "code",
      "source": [
        "def remove_duplicate_words(string):\n",
        "  words = string.split(\",\")\n",
        "  unique_words = []\n",
        "\n",
        "  # iterate through the list of words\n",
        "  for word in words:\n",
        "    # if the word is not in the list of unique words, append it\n",
        "    if word not in unique_words:\n",
        "      unique_words.append(word)\n",
        "\n",
        "  # join the list of unique words into a string and return it\n",
        "  return \", \".join(unique_words)"
      ],
      "metadata": {
        "id": "EkH6CDAGPGc1"
      },
      "execution_count": null,
      "outputs": []
    },
    {
      "cell_type": "code",
      "source": [
        "df_skill[\"skills\"] = df_skill[\"skills\"].apply(remove_duplicate_words) #same skills in row\n",
        "df_skill"
      ],
      "metadata": {
        "id": "TLSf8jCnPnP1",
        "colab": {
          "base_uri": "https://localhost:8080/"
        },
        "outputId": "61e65bd2-78eb-45fa-cc3b-8ea022d23f57"
      },
      "execution_count": null,
      "outputs": [
        {
          "output_type": "execute_result",
          "data": {
            "text/plain": [
              "                                               skills\n",
              "0   java, python, machine learning, data mining, r...\n",
              "1   java, c++, matlab, digital signal processors, ...\n",
              "2   software engineering, artificial intelligence ...\n",
              "3   software development, machine learning, deep l...\n",
              "4   machine learning, leadership, research and dev...\n",
              "..                                                ...\n",
              "72  python, machine learning, sql, recommender sys...\n",
              "73  recherche opérationnelle, c++, mathématiques, ...\n",
              "74  python (programming language), mysql, java, sq...\n",
              "75  python (programming language), sql, machine le...\n",
              "76  data science, machine learning, python, big da...\n",
              "\n",
              "[77 rows x 1 columns]"
            ],
            "text/html": [
              "\n",
              "  <div id=\"df-151d6e38-f4e8-4449-9b0e-d43cdc83b2ab\">\n",
              "    <div class=\"colab-df-container\">\n",
              "      <div>\n",
              "<style scoped>\n",
              "    .dataframe tbody tr th:only-of-type {\n",
              "        vertical-align: middle;\n",
              "    }\n",
              "\n",
              "    .dataframe tbody tr th {\n",
              "        vertical-align: top;\n",
              "    }\n",
              "\n",
              "    .dataframe thead th {\n",
              "        text-align: right;\n",
              "    }\n",
              "</style>\n",
              "<table border=\"1\" class=\"dataframe\">\n",
              "  <thead>\n",
              "    <tr style=\"text-align: right;\">\n",
              "      <th></th>\n",
              "      <th>skills</th>\n",
              "    </tr>\n",
              "  </thead>\n",
              "  <tbody>\n",
              "    <tr>\n",
              "      <th>0</th>\n",
              "      <td>java, python, machine learning, data mining, r...</td>\n",
              "    </tr>\n",
              "    <tr>\n",
              "      <th>1</th>\n",
              "      <td>java, c++, matlab, digital signal processors, ...</td>\n",
              "    </tr>\n",
              "    <tr>\n",
              "      <th>2</th>\n",
              "      <td>software engineering, artificial intelligence ...</td>\n",
              "    </tr>\n",
              "    <tr>\n",
              "      <th>3</th>\n",
              "      <td>software development, machine learning, deep l...</td>\n",
              "    </tr>\n",
              "    <tr>\n",
              "      <th>4</th>\n",
              "      <td>machine learning, leadership, research and dev...</td>\n",
              "    </tr>\n",
              "    <tr>\n",
              "      <th>...</th>\n",
              "      <td>...</td>\n",
              "    </tr>\n",
              "    <tr>\n",
              "      <th>72</th>\n",
              "      <td>python, machine learning, sql, recommender sys...</td>\n",
              "    </tr>\n",
              "    <tr>\n",
              "      <th>73</th>\n",
              "      <td>recherche opérationnelle, c++, mathématiques, ...</td>\n",
              "    </tr>\n",
              "    <tr>\n",
              "      <th>74</th>\n",
              "      <td>python (programming language), mysql, java, sq...</td>\n",
              "    </tr>\n",
              "    <tr>\n",
              "      <th>75</th>\n",
              "      <td>python (programming language), sql, machine le...</td>\n",
              "    </tr>\n",
              "    <tr>\n",
              "      <th>76</th>\n",
              "      <td>data science, machine learning, python, big da...</td>\n",
              "    </tr>\n",
              "  </tbody>\n",
              "</table>\n",
              "<p>77 rows × 1 columns</p>\n",
              "</div>\n",
              "      <button class=\"colab-df-convert\" onclick=\"convertToInteractive('df-151d6e38-f4e8-4449-9b0e-d43cdc83b2ab')\"\n",
              "              title=\"Convert this dataframe to an interactive table.\"\n",
              "              style=\"display:none;\">\n",
              "        \n",
              "  <svg xmlns=\"http://www.w3.org/2000/svg\" height=\"24px\"viewBox=\"0 0 24 24\"\n",
              "       width=\"24px\">\n",
              "    <path d=\"M0 0h24v24H0V0z\" fill=\"none\"/>\n",
              "    <path d=\"M18.56 5.44l.94 2.06.94-2.06 2.06-.94-2.06-.94-.94-2.06-.94 2.06-2.06.94zm-11 1L8.5 8.5l.94-2.06 2.06-.94-2.06-.94L8.5 2.5l-.94 2.06-2.06.94zm10 10l.94 2.06.94-2.06 2.06-.94-2.06-.94-.94-2.06-.94 2.06-2.06.94z\"/><path d=\"M17.41 7.96l-1.37-1.37c-.4-.4-.92-.59-1.43-.59-.52 0-1.04.2-1.43.59L10.3 9.45l-7.72 7.72c-.78.78-.78 2.05 0 2.83L4 21.41c.39.39.9.59 1.41.59.51 0 1.02-.2 1.41-.59l7.78-7.78 2.81-2.81c.8-.78.8-2.07 0-2.86zM5.41 20L4 18.59l7.72-7.72 1.47 1.35L5.41 20z\"/>\n",
              "  </svg>\n",
              "      </button>\n",
              "      \n",
              "  <style>\n",
              "    .colab-df-container {\n",
              "      display:flex;\n",
              "      flex-wrap:wrap;\n",
              "      gap: 12px;\n",
              "    }\n",
              "\n",
              "    .colab-df-convert {\n",
              "      background-color: #E8F0FE;\n",
              "      border: none;\n",
              "      border-radius: 50%;\n",
              "      cursor: pointer;\n",
              "      display: none;\n",
              "      fill: #1967D2;\n",
              "      height: 32px;\n",
              "      padding: 0 0 0 0;\n",
              "      width: 32px;\n",
              "    }\n",
              "\n",
              "    .colab-df-convert:hover {\n",
              "      background-color: #E2EBFA;\n",
              "      box-shadow: 0px 1px 2px rgba(60, 64, 67, 0.3), 0px 1px 3px 1px rgba(60, 64, 67, 0.15);\n",
              "      fill: #174EA6;\n",
              "    }\n",
              "\n",
              "    [theme=dark] .colab-df-convert {\n",
              "      background-color: #3B4455;\n",
              "      fill: #D2E3FC;\n",
              "    }\n",
              "\n",
              "    [theme=dark] .colab-df-convert:hover {\n",
              "      background-color: #434B5C;\n",
              "      box-shadow: 0px 1px 3px 1px rgba(0, 0, 0, 0.15);\n",
              "      filter: drop-shadow(0px 1px 2px rgba(0, 0, 0, 0.3));\n",
              "      fill: #FFFFFF;\n",
              "    }\n",
              "  </style>\n",
              "\n",
              "      <script>\n",
              "        const buttonEl =\n",
              "          document.querySelector('#df-151d6e38-f4e8-4449-9b0e-d43cdc83b2ab button.colab-df-convert');\n",
              "        buttonEl.style.display =\n",
              "          google.colab.kernel.accessAllowed ? 'block' : 'none';\n",
              "\n",
              "        async function convertToInteractive(key) {\n",
              "          const element = document.querySelector('#df-151d6e38-f4e8-4449-9b0e-d43cdc83b2ab');\n",
              "          const dataTable =\n",
              "            await google.colab.kernel.invokeFunction('convertToInteractive',\n",
              "                                                     [key], {});\n",
              "          if (!dataTable) return;\n",
              "\n",
              "          const docLinkHtml = 'Like what you see? Visit the ' +\n",
              "            '<a target=\"_blank\" href=https://colab.research.google.com/notebooks/data_table.ipynb>data table notebook</a>'\n",
              "            + ' to learn more about interactive tables.';\n",
              "          element.innerHTML = '';\n",
              "          dataTable['output_type'] = 'display_data';\n",
              "          await google.colab.output.renderOutput(dataTable, element);\n",
              "          const docLink = document.createElement('div');\n",
              "          docLink.innerHTML = docLinkHtml;\n",
              "          element.appendChild(docLink);\n",
              "        }\n",
              "      </script>\n",
              "    </div>\n",
              "  </div>\n",
              "  "
            ]
          },
          "metadata": {},
          "execution_count": 469
        }
      ]
    },
    {
      "cell_type": "markdown",
      "source": [
        "## Frequency of Skills"
      ],
      "metadata": {
        "id": "C6OpiJMbOg7J"
      }
    },
    {
      "cell_type": "code",
      "source": [
        "df_skill['words'] = df_skill['skills'].apply(lambda x: x.split(\",\"))\n",
        "word_freq = {}"
      ],
      "metadata": {
        "id": "QJES9gJelNzO"
      },
      "execution_count": null,
      "outputs": []
    },
    {
      "cell_type": "code",
      "source": [
        "for row in df_skill['words']:\n",
        "    for word in row:\n",
        "        if word not in word_freq:\n",
        "            word_freq[word] = 1\n",
        "        else:\n",
        "            word_freq[word] += 1\n",
        "for word, freq in word_freq.items():\n",
        "    print(f'{word}: {freq}')"
      ],
      "metadata": {
        "id": "YfR-Or-FlgPJ",
        "colab": {
          "base_uri": "https://localhost:8080/"
        },
        "outputId": "a4373502-1151-49e2-a97a-815836adec7d"
      },
      "execution_count": null,
      "outputs": [
        {
          "output_type": "stream",
          "name": "stdout",
          "text": [
            "java: 8\n",
            " python: 48\n",
            " machine learning: 41\n",
            " data mining: 23\n",
            " redis: 1\n",
            " natural language processing: 8\n",
            " hadoop: 15\n",
            " sqoop: 1\n",
            " hive: 7\n",
            " apache spark: 12\n",
            " sql: 40\n",
            " drools: 1\n",
            " jbpm: 1\n",
            " j2ee web services: 1\n",
            " ejb: 1\n",
            " spring: 1\n",
            " oracle: 2\n",
            " eclipse: 2\n",
            " hibernate: 3\n",
            " mysql: 22\n",
            " jprofiler: 1\n",
            " jmx: 1\n",
            " web services: 4\n",
            " soa: 1\n",
            " ibm rational software architect: 1\n",
            " sdlc: 1\n",
            " multithreading: 1\n",
            " solution architecture: 1\n",
            " cloud computing: 5\n",
            " ooad: 1\n",
            " junit: 2\n",
            " maven: 2\n",
            " github: 5\n",
            " tomcat: 1\n",
            " uml: 1\n",
            " jboss application server: 1\n",
            " weblogic: 1\n",
            " pl/sql: 4\n",
            " open source: 1\n",
            " enterprise software: 1\n",
            " c++: 45\n",
            " matlab: 30\n",
            " digital signal processors: 2\n",
            " digital signal processing: 1\n",
            " xilinx: 1\n",
            " c: 34\n",
            " microprocessors: 1\n",
            " logisim: 1\n",
            " avr: 1\n",
            " microsoft office: 23\n",
            " deep learning: 32\n",
            " computer vision: 17\n",
            "software engineering: 1\n",
            " artificial intelligence (ai): 14\n",
            " software development: 12\n",
            " front-end development: 1\n",
            " algorithms: 24\n",
            " object oriented design: 1\n",
            " object-oriented programming (oop): 2\n",
            " web applications: 3\n",
            " data science: 14\n",
            " javascript: 18\n",
            " html: 17\n",
            " css: 8\n",
            " angularjs: 2\n",
            " typescript: 1\n",
            " natural language processing (nlp): 13\n",
            " apache kafka: 6\n",
            " reinforcement learning: 2\n",
            " react: 2\n",
            " asp.net mvc: 1\n",
            " amazon web services (aws): 11\n",
            " git: 13\n",
            " node.js: 4\n",
            " java: 50\n",
            " tensorflow: 23\n",
            " r: 24\n",
            " c#: 8\n",
            " scala: 9\n",
            " spring boot: 3\n",
            " pytorch: 16\n",
            " django: 3\n",
            "software development: 1\n",
            " data analysis: 24\n",
            " data visualization: 9\n",
            " research: 14\n",
            " user interface design: 1\n",
            " data structures: 10\n",
            " product management: 1\n",
            " project management: 7\n",
            " agile: 1\n",
            " scrum: 2\n",
            " software development life cycle (sdlc): 1\n",
            " scikit-learn: 9\n",
            " neural networks: 8\n",
            " recommender systems: 5\n",
            " react js: 1\n",
            " rest api: 2\n",
            " jupyter notebook: 1\n",
            " python (programming language): 16\n",
            " json: 3\n",
            " microsoft excel: 13\n",
            " nosql: 4\n",
            " leadership: 8\n",
            " communication: 4\n",
            " management: 4\n",
            " public speaking: 6\n",
            "machine learning: 13\n",
            " research and development (r&d): 3\n",
            " scientific writing: 2\n",
            " design: 1\n",
            " latex: 18\n",
            " problem solving: 2\n",
            " swift (programming language): 2\n",
            " react.js: 1\n",
            " software engineering: 8\n",
            " keras: 9\n",
            "python: 11\n",
            " shell scripting: 7\n",
            " agile methodologies: 4\n",
            " web development: 3\n",
            " distributed systems: 8\n",
            " databases: 7\n",
            " api development: 2\n",
            " amazon ec2: 2\n",
            " data scraping: 1\n",
            " data wrangling: 1\n",
            " feature engineering: 1\n",
            " feature extraction: 1\n",
            " data-driven decision making: 1\n",
            " extrac: 2\n",
            " ransfor: 2\n",
            " oad (etl): 2\n",
            " html5: 2\n",
            " microsoft powerpoint: 3\n",
            " docker: 6\n",
            " mongodb: 5\n",
            " amazon rds: 1\n",
            " restful webservices: 3\n",
            "matlab: 3\n",
            " finite element analysis: 1\n",
            " autocad: 1\n",
            " structural engineering: 1\n",
            " numerical analysis: 5\n",
            " powerpoint: 5\n",
            " microsoft word: 10\n",
            " sensors: 2\n",
            " structural analysis: 1\n",
            " civil engineering: 1\n",
            " sap2000: 1\n",
            " cad: 1\n",
            " ansys: 1\n",
            " surveying: 1\n",
            " opensees: 1\n",
            " computer-aided design (cad): 1\n",
            " etabs: 1\n",
            " midas: 1\n",
            " image processing: 8\n",
            " seismic design: 1\n",
            " artificial neural networks: 5\n",
            " photoshop: 1\n",
            " adobe photoshop: 2\n",
            " r (programming language): 3\n",
            " optimization: 3\n",
            " physics: 3\n",
            " statistics: 15\n",
            " statistical modeling: 7\n",
            " analytics: 1\n",
            " mathematica: 5\n",
            " numerical simulation: 1\n",
            " a/b testing: 3\n",
            " data analytics: 2\n",
            " full-stack development: 1\n",
            " software: 1\n",
            " signal processing: 4\n",
            " simulations: 3\n",
            " programming: 19\n",
            " electrical engineering: 1\n",
            " wireless: 1\n",
            " mathematical modeling: 6\n",
            " testing: 4\n",
            " biomedical engineering: 1\n",
            " wireless networking: 1\n",
            " field-programmable gate arrays (fpga): 1\n",
            " wireless technologies: 1\n",
            " wireless communications systems: 1\n",
            " mimo: 1\n",
            " simulink: 3\n",
            " lte: 1\n",
            " firmware: 1\n",
            " pspice: 1\n",
            " embedded software: 1\n",
            " apache pig: 3\n",
            "mathematics: 1\n",
            " excel: 1\n",
            " linux: 22\n",
            " gans: 1\n",
            "c++: 6\n",
            " microcontrollers: 1\n",
            " ubuntu: 1\n",
            " opencv: 8\n",
            " embedded c: 2\n",
            " robotics: 3\n",
            " encoders: 1\n",
            " relational databases: 1\n",
            " database development: 2\n",
            " computational photography: 1\n",
            " tcl: 1\n",
            " sybase adaptive server: 1\n",
            " opencl: 1\n",
            " cuda: 2\n",
            " atmel avr: 1\n",
            " vim: 1\n",
            " arduino: 1\n",
            " clearcase: 1\n",
            " mpi: 2\n",
            "hadoop: 1\n",
            " senior machine learning engineer at twitter: 1\n",
            " advertising: 1\n",
            "information retrieval: 1\n",
            " search engine ranking: 1\n",
            " artificial intelligence: 4\n",
            " search engine technology: 2\n",
            " text mining: 3\n",
            " information extraction: 1\n",
            " collaborative filtering: 1\n",
            " language technology: 1\n",
            " crowdsourcing: 1\n",
            " android development: 1\n",
            " html scripting: 1\n",
            " speech technology: 1\n",
            " modeling languages: 1\n",
            " speech recognition: 3\n",
            "natural language processing (nlp): 1\n",
            " machine learning engineer at amazon music: 1\n",
            " java 8: 1\n",
            " objective-c: 3\n",
            " sharepoint: 1\n",
            " stata: 2\n",
            " spring framework: 3\n",
            " aws lambda: 2\n",
            " gwt: 1\n",
            " microservices: 3\n",
            " .net framework: 1\n",
            " scalability: 3\n",
            " e-commerce: 1\n",
            " bioinformatics: 2\n",
            " computer science: 3\n",
            " scientific computing: 1\n",
            " computational biology: 2\n",
            " mapreduce: 7\n",
            " software as a service (saas): 1\n",
            " strategy: 1\n",
            "natural language processing: 1\n",
            " system design: 1\n",
            " actionscript: 1\n",
            " html 5: 1\n",
            " ruby: 2\n",
            " ruby on rails: 2\n",
            " cascading style sheets (css): 2\n",
            " haxe: 1\n",
            " cocos2d: 1\n",
            " php: 6\n",
            " teamwork: 8\n",
            " core java: 2\n",
            " java enterprise edition: 3\n",
            " web analytics: 2\n",
            " randomization: 1\n",
            " approximation algorithms: 1\n",
            " principal component analysis: 1\n",
            " sdn: 1\n",
            " nfv: 1\n",
            " cloud: 1\n",
            " big data analytics: 2\n",
            " soap: 1\n",
            " soapui: 1\n",
            " consulting: 1\n",
            " tableau: 9\n",
            " team leadership: 3\n",
            " time management: 1\n",
            " customer service: 2\n",
            " text analytics: 1\n",
            " time series analysis: 3\n",
            " spark: 4\n",
            " data engineering: 1\n",
            " business administration: 1\n",
            " convolutional neural networks (cnn): 3\n",
            " strategic initiatives: 1\n",
            " deadline oriented: 1\n",
            " sas: 5\n",
            " design of experiments: 1\n",
            " analytical skills: 3\n",
            " qualitative research: 1\n",
            " anova: 1\n",
            " hypothesis testing: 2\n",
            " big data: 7\n",
            "r: 2\n",
            " markov chain monte carlo: 1\n",
            " analysis: 2\n",
            " quantitative analytics: 1\n",
            " machine learning engineer at twitter: 2\n",
            " kubernetes: 2\n",
            " spss: 1\n",
            " 5 experiences across twitter and 3 other companies: 1\n",
            " numpy: 3\n",
            " scipy: 4\n",
            " machine learning algorithms: 1\n",
            " pyspark: 1\n",
            " aws sagemaker: 1\n",
            " amazon s3: 2\n",
            " google cloud platform (gcp): 2\n",
            " japanese: 1\n",
            " c (programming language): 4\n",
            " assembly language: 1\n",
            " arm assembly: 1\n",
            " chinese: 2\n",
            " splunk: 1\n",
            " virtualization: 2\n",
            " jquery: 4\n",
            " rest: 1\n",
            " postgresql: 3\n",
            " cassandra: 2\n",
            " classification: 2\n",
            " openstack: 1\n",
            " gradle: 1\n",
            " apache mesos: 1\n",
            " full sdlc: 1\n",
            " chef: 1\n",
            " java web services: 1\n",
            " microsoft sql server: 3\n",
            " verilog: 3\n",
            " perl: 2\n",
            " cadence virtuoso: 1\n",
            " cadence encounter: 1\n",
            " modelsim: 2\n",
            " synopsys primetime: 1\n",
            " circuit design: 1\n",
            " transfer learning: 1\n",
            " cmos: 1\n",
            " programmable logic controller (plc): 1\n",
            " english: 2\n",
            " hspice: 1\n",
            " bash: 1\n",
            " parallel computing: 1\n",
            " probability: 1\n",
            " web scraping: 1\n",
            " openmp: 1\n",
            " random forest: 1\n",
            " monte carlo simulation: 1\n",
            " high performance computing (hpc): 2\n",
            " spacy: 1\n",
            " gensim: 1\n",
            " beautiful soup: 1\n",
            " selenium: 1\n",
            " apache: 1\n",
            " data modeling: 3\n",
            " docker products: 1\n",
            " jira: 2\n",
            "ads prediction: 1\n",
            " software engineer at google: 1\n",
            " search: 1\n",
            " staff enginee: 1\n",
            " achine learning at uber: 1\n",
            " 2 experiences across google and 1 other company: 1\n",
            " search ranking: 1\n",
            " geolocation: 1\n",
            " search quality: 1\n",
            " nlp: 2\n",
            " c/c++: 2\n",
            " search engines: 1\n",
            " backend development: 1\n",
            " map: 1\n",
            " data infrastructure: 1\n",
            " go: 3\n",
            "research: 1\n",
            " solidworks: 2\n",
            " biotechnology: 1\n",
            " centos: 1\n",
            " single cell sequencing: 1\n",
            " rnaseq analysis: 1\n",
            " genomics: 1\n",
            " final cut pro: 1\n",
            " mathematics: 4\n",
            " engineering: 3\n",
            "leadership: 1\n",
            " networking: 1\n",
            " object detection: 2\n",
            " neuro-linguistic programming (nlp): 1\n",
            "deep learning: 3\n",
            " information management: 1\n",
            " visual studio: 1\n",
            " xml: 2\n",
            " experimental design: 1\n",
            " adobe illustrator: 1\n",
            " sqlite: 2\n",
            " database management system (dbms): 1\n",
            " linux kernel: 1\n",
            " standard template library (stl): 1\n",
            " stl: 1\n",
            " weka: 1\n",
            " data preparation: 1\n",
            " data transformation: 1\n",
            " data cleaning: 1\n",
            " groovy on grails: 1\n",
            " angular: 1\n",
            " swift: 1\n",
            " xcode: 1\n",
            " ios: 1\n",
            "data analysis: 1\n",
            "algorithms: 2\n",
            " operating systems: 2\n",
            " team management: 2\n",
            " machine translation: 1\n",
            " software project management: 1\n",
            " large-scale data analysis: 2\n",
            " shell: 1\n",
            "jira: 1\n",
            " machine learning engineer at potion: 1\n",
            " kotlin: 1\n",
            " northeastern university: 1\n",
            " hbase: 1\n",
            " database management system: 1\n",
            " apache samza: 1\n",
            " terraform: 1\n",
            " anaconda: 1\n",
            " image analysis: 1\n",
            " jupyter: 1\n",
            " firebase: 1\n",
            " mobile application development: 1\n",
            " introduction to machining learning: 1\n",
            " windows: 1\n",
            " unix: 3\n",
            " embedded systems: 1\n",
            " digital analytics: 1\n",
            " sas programming: 1\n",
            " jsp: 1\n",
            " coremetrics analytics: 1\n",
            " multivariate testing: 1\n",
            " adobe marketing cloud: 1\n",
            " google analytics: 1\n",
            " servlets: 1\n",
            " ibm  db2: 1\n",
            " sunrise: 1\n",
            "computer vision: 2\n",
            " deep reinforcement learning: 1\n",
            "software architectural design: 1\n",
            " senior machine learning engineer at intuit: 1\n",
            " computer networking: 2\n",
            " test automation: 1\n",
            " ms office tools: 1\n",
            " mips assembly: 1\n",
            " jgrasp: 1\n",
            " digital circuit design: 1\n",
            "predictive modeling: 1\n",
            " 3 experiences across twitter and 2 other companies: 1\n",
            " 2 educational experiences at the university of british columbia: 1\n",
            " 3 educational experiences at the university of british columbia and 1 other school: 1\n",
            " 2 experiences across twitter and 1 other company: 1\n",
            " econometrics: 1\n",
            " economics: 1\n",
            " research design: 1\n",
            " policy analysis: 1\n",
            " report writing: 1\n",
            " university teaching: 1\n",
            " forecasting: 1\n",
            " business intelligence: 2\n",
            " data warehousing: 1\n",
            " predictive analytics: 1\n",
            " dialogflow: 1\n",
            "data analytics: 1\n",
            " foreign languages: 1\n",
            " pandas (software): 3\n",
            " computational physics: 1\n",
            " frm level 1: 1\n",
            " statistical programming: 1\n",
            "data warehousing: 1\n",
            " t-sql: 1\n",
            " etl: 1\n",
            " ssis: 1\n",
            " data integration: 1\n",
            " ssrs: 2\n",
            " olap: 1\n",
            " database design: 1\n",
            " analysis services: 1\n",
            " vbscript: 1\n",
            " digital image processing: 2\n",
            " gnu octave: 1\n",
            " subversion: 1\n",
            "generalized linear model: 1\n",
            " probabilistic models: 1\n",
            " bootstrapping: 1\n",
            " markov models: 1\n",
            " linear programming: 1\n",
            " bayesian inference: 1\n",
            " conversion optimization: 1\n",
            " ctr prediction: 1\n",
            " audience segmentation: 1\n",
            " awk: 1\n",
            "sql: 1\n",
            " risk analysis: 1\n",
            " salesforce.com: 1\n",
            " microsoft project: 1\n",
            " marketo: 1\n",
            " pig: 1\n",
            " stattools: 1\n",
            "autodesk inventor: 1\n",
            " tutoring: 2\n",
            " team effectiveness: 1\n",
            " first aid: 1\n",
            " love of learning: 1\n",
            " french: 2\n",
            " lisp: 1\n",
            "data mining: 1\n",
            " online advertising: 1\n",
            " behavioral targeting: 1\n",
            " information retrieval: 2\n",
            " computer graphics: 2\n",
            "microsoft office: 1\n",
            " visual basic for applications (vba): 1\n",
            " vba: 1\n",
            "public speaking: 1\n",
            " teaching: 1\n",
            " game programming: 1\n",
            " writing: 2\n",
            " speech writing: 1\n",
            "python (programming language): 3\n",
            " digital electronics: 1\n",
            " matplotlib: 1\n",
            " application-specific integrated circuits (asic): 1\n",
            " very-large-scale integration (vlsi): 1\n",
            " vlsi cad: 1\n",
            " systemverilog: 1\n",
            " plc siemens: 1\n",
            " siemens tia portal: 1\n",
            " financial modeling: 2\n",
            " quantitative management: 1\n",
            " organizational leadership: 1\n",
            " quant: 1\n",
            " operations research: 1\n",
            " financial analysis: 2\n",
            " modeling: 1\n",
            " social network analysis: 1\n",
            " c language: 1\n",
            " critical thinking: 1\n",
            " personal development: 1\n",
            " executive leadership: 1\n",
            " talent management: 1\n",
            " life skills: 1\n",
            " career management: 1\n",
            " building effective relationships: 1\n",
            " manufacturing: 1\n",
            " electronics: 1\n",
            " automation: 1\n",
            " root cause analysis: 1\n",
            " opengl: 1\n",
            " algorithm development: 1\n",
            " unity3d: 2\n",
            " accounting: 1\n",
            " hdfs: 1\n",
            " greenplum: 1\n",
            " pivotal: 1\n",
            " azure machine learning: 1\n",
            " elasticsearch: 1\n",
            " ros: 2\n",
            " fpga: 1\n",
            " rtl design: 1\n",
            " ios development: 1\n",
            "recherche opérationnelle: 1\n",
            " mathématiques: 1\n",
            " calcul stochastique: 1\n",
            " optimisation: 1\n",
            " intelligence artificielle: 1\n",
            " développement de logiciel: 1\n",
            " développement d’algorithmes: 1\n",
            " ml: 1\n",
            " presentation skills: 1\n",
            " r shiny: 1\n",
            " fast.ai: 1\n",
            " decision-making: 1\n",
            " quick grasping: 1\n",
            "data science: 1\n",
            " aws: 1\n",
            " arabic: 1\n",
            " parallel programming: 1\n",
            " back-end web development: 1\n",
            " pandas: 1\n",
            " flask: 1\n"
          ]
        }
      ]
    },
    {
      "cell_type": "code",
      "source": [
        "sorted_word_freq = sorted(word_freq.items(), key=lambda x: x[1], reverse=True)\n",
        "top_15_words = sorted_word_freq[:15]\n",
        "for word, freq in top_15_words:\n",
        "    print(f'{word}: {freq}')\n",
        "\n",
        "#java ent edition, java web services,core java,java 8"
      ],
      "metadata": {
        "id": "UfNVsoSNlgMg",
        "colab": {
          "base_uri": "https://localhost:8080/"
        },
        "outputId": "850ea7e0-7d74-46b6-cdda-2c1f807a03cb"
      },
      "execution_count": null,
      "outputs": [
        {
          "output_type": "stream",
          "name": "stdout",
          "text": [
            " java: 50\n",
            " python: 48\n",
            " c++: 45\n",
            " machine learning: 41\n",
            " sql: 40\n",
            " c: 34\n",
            " deep learning: 32\n",
            " matlab: 30\n",
            " algorithms: 24\n",
            " r: 24\n",
            " data analysis: 24\n",
            " data mining: 23\n",
            " microsoft office: 23\n",
            " tensorflow: 23\n",
            " mysql: 22\n"
          ]
        }
      ]
    },
    {
      "cell_type": "code",
      "source": [
        "df_skill= df_skill.drop(columns=\"words\",axis=1)\n"
      ],
      "metadata": {
        "id": "wBvDKIY1dBnF"
      },
      "execution_count": null,
      "outputs": []
    },
    {
      "cell_type": "markdown",
      "source": [
        "## Preprocess"
      ],
      "metadata": {
        "id": "ReWc5N2QcUhv"
      }
    },
    {
      "cell_type": "code",
      "source": [
        "lemmatizer = WordNetLemmatizer()\n",
        "def tokenize_skills(string):\n",
        "    tokens = re.split(r'[,\\s]+', string)\n",
        "    tokens = [token for token in tokens if token]# Remove any empty tokens\n",
        "    return tokens\n",
        "# Remove stop words\n",
        "def remove_stop_words_skills(tokens):\n",
        "    clean_tokens = [token for token in tokens if token.lower() not in stopwords.words('english')]\n",
        "    return clean_tokens\n",
        "\n",
        "def lemmatize_word(word):\n",
        "  return lemmatizer.lemmatize(word)\n",
        "def lemmatize_list(words):\n",
        "  lemmas = []\n",
        "  for word in words:\n",
        "    lemma = lemmatize_word(word)\n",
        "    lemmas.append(lemma)\n",
        "  return lemmas"
      ],
      "metadata": {
        "id": "9MF6hAE0rvPX"
      },
      "execution_count": null,
      "outputs": []
    },
    {
      "cell_type": "code",
      "source": [
        "df_skill.head()"
      ],
      "metadata": {
        "colab": {
          "base_uri": "https://localhost:8080/"
        },
        "id": "gTwE4117cqE1",
        "outputId": "3f4d3112-26c4-4be8-efb8-564c00c60f6f"
      },
      "execution_count": null,
      "outputs": [
        {
          "output_type": "execute_result",
          "data": {
            "text/plain": [
              "                                              skills\n",
              "0  java, python, machine learning, data mining, r...\n",
              "1  java, c++, matlab, digital signal processors, ...\n",
              "2  software engineering, artificial intelligence ...\n",
              "3  software development, machine learning, deep l...\n",
              "4  machine learning, leadership, research and dev..."
            ],
            "text/html": [
              "\n",
              "  <div id=\"df-b1f48390-9efd-4e8d-9a2e-7f4dac8c530f\">\n",
              "    <div class=\"colab-df-container\">\n",
              "      <div>\n",
              "<style scoped>\n",
              "    .dataframe tbody tr th:only-of-type {\n",
              "        vertical-align: middle;\n",
              "    }\n",
              "\n",
              "    .dataframe tbody tr th {\n",
              "        vertical-align: top;\n",
              "    }\n",
              "\n",
              "    .dataframe thead th {\n",
              "        text-align: right;\n",
              "    }\n",
              "</style>\n",
              "<table border=\"1\" class=\"dataframe\">\n",
              "  <thead>\n",
              "    <tr style=\"text-align: right;\">\n",
              "      <th></th>\n",
              "      <th>skills</th>\n",
              "    </tr>\n",
              "  </thead>\n",
              "  <tbody>\n",
              "    <tr>\n",
              "      <th>0</th>\n",
              "      <td>java, python, machine learning, data mining, r...</td>\n",
              "    </tr>\n",
              "    <tr>\n",
              "      <th>1</th>\n",
              "      <td>java, c++, matlab, digital signal processors, ...</td>\n",
              "    </tr>\n",
              "    <tr>\n",
              "      <th>2</th>\n",
              "      <td>software engineering, artificial intelligence ...</td>\n",
              "    </tr>\n",
              "    <tr>\n",
              "      <th>3</th>\n",
              "      <td>software development, machine learning, deep l...</td>\n",
              "    </tr>\n",
              "    <tr>\n",
              "      <th>4</th>\n",
              "      <td>machine learning, leadership, research and dev...</td>\n",
              "    </tr>\n",
              "  </tbody>\n",
              "</table>\n",
              "</div>\n",
              "      <button class=\"colab-df-convert\" onclick=\"convertToInteractive('df-b1f48390-9efd-4e8d-9a2e-7f4dac8c530f')\"\n",
              "              title=\"Convert this dataframe to an interactive table.\"\n",
              "              style=\"display:none;\">\n",
              "        \n",
              "  <svg xmlns=\"http://www.w3.org/2000/svg\" height=\"24px\"viewBox=\"0 0 24 24\"\n",
              "       width=\"24px\">\n",
              "    <path d=\"M0 0h24v24H0V0z\" fill=\"none\"/>\n",
              "    <path d=\"M18.56 5.44l.94 2.06.94-2.06 2.06-.94-2.06-.94-.94-2.06-.94 2.06-2.06.94zm-11 1L8.5 8.5l.94-2.06 2.06-.94-2.06-.94L8.5 2.5l-.94 2.06-2.06.94zm10 10l.94 2.06.94-2.06 2.06-.94-2.06-.94-.94-2.06-.94 2.06-2.06.94z\"/><path d=\"M17.41 7.96l-1.37-1.37c-.4-.4-.92-.59-1.43-.59-.52 0-1.04.2-1.43.59L10.3 9.45l-7.72 7.72c-.78.78-.78 2.05 0 2.83L4 21.41c.39.39.9.59 1.41.59.51 0 1.02-.2 1.41-.59l7.78-7.78 2.81-2.81c.8-.78.8-2.07 0-2.86zM5.41 20L4 18.59l7.72-7.72 1.47 1.35L5.41 20z\"/>\n",
              "  </svg>\n",
              "      </button>\n",
              "      \n",
              "  <style>\n",
              "    .colab-df-container {\n",
              "      display:flex;\n",
              "      flex-wrap:wrap;\n",
              "      gap: 12px;\n",
              "    }\n",
              "\n",
              "    .colab-df-convert {\n",
              "      background-color: #E8F0FE;\n",
              "      border: none;\n",
              "      border-radius: 50%;\n",
              "      cursor: pointer;\n",
              "      display: none;\n",
              "      fill: #1967D2;\n",
              "      height: 32px;\n",
              "      padding: 0 0 0 0;\n",
              "      width: 32px;\n",
              "    }\n",
              "\n",
              "    .colab-df-convert:hover {\n",
              "      background-color: #E2EBFA;\n",
              "      box-shadow: 0px 1px 2px rgba(60, 64, 67, 0.3), 0px 1px 3px 1px rgba(60, 64, 67, 0.15);\n",
              "      fill: #174EA6;\n",
              "    }\n",
              "\n",
              "    [theme=dark] .colab-df-convert {\n",
              "      background-color: #3B4455;\n",
              "      fill: #D2E3FC;\n",
              "    }\n",
              "\n",
              "    [theme=dark] .colab-df-convert:hover {\n",
              "      background-color: #434B5C;\n",
              "      box-shadow: 0px 1px 3px 1px rgba(0, 0, 0, 0.15);\n",
              "      filter: drop-shadow(0px 1px 2px rgba(0, 0, 0, 0.3));\n",
              "      fill: #FFFFFF;\n",
              "    }\n",
              "  </style>\n",
              "\n",
              "      <script>\n",
              "        const buttonEl =\n",
              "          document.querySelector('#df-b1f48390-9efd-4e8d-9a2e-7f4dac8c530f button.colab-df-convert');\n",
              "        buttonEl.style.display =\n",
              "          google.colab.kernel.accessAllowed ? 'block' : 'none';\n",
              "\n",
              "        async function convertToInteractive(key) {\n",
              "          const element = document.querySelector('#df-b1f48390-9efd-4e8d-9a2e-7f4dac8c530f');\n",
              "          const dataTable =\n",
              "            await google.colab.kernel.invokeFunction('convertToInteractive',\n",
              "                                                     [key], {});\n",
              "          if (!dataTable) return;\n",
              "\n",
              "          const docLinkHtml = 'Like what you see? Visit the ' +\n",
              "            '<a target=\"_blank\" href=https://colab.research.google.com/notebooks/data_table.ipynb>data table notebook</a>'\n",
              "            + ' to learn more about interactive tables.';\n",
              "          element.innerHTML = '';\n",
              "          dataTable['output_type'] = 'display_data';\n",
              "          await google.colab.output.renderOutput(dataTable, element);\n",
              "          const docLink = document.createElement('div');\n",
              "          docLink.innerHTML = docLinkHtml;\n",
              "          element.appendChild(docLink);\n",
              "        }\n",
              "      </script>\n",
              "    </div>\n",
              "  </div>\n",
              "  "
            ]
          },
          "metadata": {},
          "execution_count": 471
        }
      ]
    },
    {
      "cell_type": "code",
      "source": [
        "df_skill['skills'] = df_skill['skills'].apply(tokenize_skills)\n",
        "df_skill['skills'] = df_skill['skills'].apply(lemmatize_list)\n",
        "df_skill['skills'] = df_skill['skills'].apply(remove_stop_words_skills)"
      ],
      "metadata": {
        "id": "3FlfM6oB_cqZ"
      },
      "execution_count": null,
      "outputs": []
    },
    {
      "cell_type": "code",
      "source": [
        "df_skill.head()"
      ],
      "metadata": {
        "colab": {
          "base_uri": "https://localhost:8080/"
        },
        "id": "QFi2aUVQANUX",
        "outputId": "8ef9a365-1d8c-4c27-e30f-0ffc7520f405"
      },
      "execution_count": null,
      "outputs": [
        {
          "output_type": "execute_result",
          "data": {
            "text/plain": [
              "                                              skills\n",
              "0  [java, python, machine, learning, data, mining...\n",
              "1  [java, c++, matlab, digital, signal, processor...\n",
              "2  [software, engineering, artificial, intelligen...\n",
              "3  [software, development, machine, learning, dee...\n",
              "4  [machine, learning, leadership, research, deve..."
            ],
            "text/html": [
              "\n",
              "  <div id=\"df-c54684c4-4d56-4d9d-8579-a3120c279eac\">\n",
              "    <div class=\"colab-df-container\">\n",
              "      <div>\n",
              "<style scoped>\n",
              "    .dataframe tbody tr th:only-of-type {\n",
              "        vertical-align: middle;\n",
              "    }\n",
              "\n",
              "    .dataframe tbody tr th {\n",
              "        vertical-align: top;\n",
              "    }\n",
              "\n",
              "    .dataframe thead th {\n",
              "        text-align: right;\n",
              "    }\n",
              "</style>\n",
              "<table border=\"1\" class=\"dataframe\">\n",
              "  <thead>\n",
              "    <tr style=\"text-align: right;\">\n",
              "      <th></th>\n",
              "      <th>skills</th>\n",
              "    </tr>\n",
              "  </thead>\n",
              "  <tbody>\n",
              "    <tr>\n",
              "      <th>0</th>\n",
              "      <td>[java, python, machine, learning, data, mining...</td>\n",
              "    </tr>\n",
              "    <tr>\n",
              "      <th>1</th>\n",
              "      <td>[java, c++, matlab, digital, signal, processor...</td>\n",
              "    </tr>\n",
              "    <tr>\n",
              "      <th>2</th>\n",
              "      <td>[software, engineering, artificial, intelligen...</td>\n",
              "    </tr>\n",
              "    <tr>\n",
              "      <th>3</th>\n",
              "      <td>[software, development, machine, learning, dee...</td>\n",
              "    </tr>\n",
              "    <tr>\n",
              "      <th>4</th>\n",
              "      <td>[machine, learning, leadership, research, deve...</td>\n",
              "    </tr>\n",
              "  </tbody>\n",
              "</table>\n",
              "</div>\n",
              "      <button class=\"colab-df-convert\" onclick=\"convertToInteractive('df-c54684c4-4d56-4d9d-8579-a3120c279eac')\"\n",
              "              title=\"Convert this dataframe to an interactive table.\"\n",
              "              style=\"display:none;\">\n",
              "        \n",
              "  <svg xmlns=\"http://www.w3.org/2000/svg\" height=\"24px\"viewBox=\"0 0 24 24\"\n",
              "       width=\"24px\">\n",
              "    <path d=\"M0 0h24v24H0V0z\" fill=\"none\"/>\n",
              "    <path d=\"M18.56 5.44l.94 2.06.94-2.06 2.06-.94-2.06-.94-.94-2.06-.94 2.06-2.06.94zm-11 1L8.5 8.5l.94-2.06 2.06-.94-2.06-.94L8.5 2.5l-.94 2.06-2.06.94zm10 10l.94 2.06.94-2.06 2.06-.94-2.06-.94-.94-2.06-.94 2.06-2.06.94z\"/><path d=\"M17.41 7.96l-1.37-1.37c-.4-.4-.92-.59-1.43-.59-.52 0-1.04.2-1.43.59L10.3 9.45l-7.72 7.72c-.78.78-.78 2.05 0 2.83L4 21.41c.39.39.9.59 1.41.59.51 0 1.02-.2 1.41-.59l7.78-7.78 2.81-2.81c.8-.78.8-2.07 0-2.86zM5.41 20L4 18.59l7.72-7.72 1.47 1.35L5.41 20z\"/>\n",
              "  </svg>\n",
              "      </button>\n",
              "      \n",
              "  <style>\n",
              "    .colab-df-container {\n",
              "      display:flex;\n",
              "      flex-wrap:wrap;\n",
              "      gap: 12px;\n",
              "    }\n",
              "\n",
              "    .colab-df-convert {\n",
              "      background-color: #E8F0FE;\n",
              "      border: none;\n",
              "      border-radius: 50%;\n",
              "      cursor: pointer;\n",
              "      display: none;\n",
              "      fill: #1967D2;\n",
              "      height: 32px;\n",
              "      padding: 0 0 0 0;\n",
              "      width: 32px;\n",
              "    }\n",
              "\n",
              "    .colab-df-convert:hover {\n",
              "      background-color: #E2EBFA;\n",
              "      box-shadow: 0px 1px 2px rgba(60, 64, 67, 0.3), 0px 1px 3px 1px rgba(60, 64, 67, 0.15);\n",
              "      fill: #174EA6;\n",
              "    }\n",
              "\n",
              "    [theme=dark] .colab-df-convert {\n",
              "      background-color: #3B4455;\n",
              "      fill: #D2E3FC;\n",
              "    }\n",
              "\n",
              "    [theme=dark] .colab-df-convert:hover {\n",
              "      background-color: #434B5C;\n",
              "      box-shadow: 0px 1px 3px 1px rgba(0, 0, 0, 0.15);\n",
              "      filter: drop-shadow(0px 1px 2px rgba(0, 0, 0, 0.3));\n",
              "      fill: #FFFFFF;\n",
              "    }\n",
              "  </style>\n",
              "\n",
              "      <script>\n",
              "        const buttonEl =\n",
              "          document.querySelector('#df-c54684c4-4d56-4d9d-8579-a3120c279eac button.colab-df-convert');\n",
              "        buttonEl.style.display =\n",
              "          google.colab.kernel.accessAllowed ? 'block' : 'none';\n",
              "\n",
              "        async function convertToInteractive(key) {\n",
              "          const element = document.querySelector('#df-c54684c4-4d56-4d9d-8579-a3120c279eac');\n",
              "          const dataTable =\n",
              "            await google.colab.kernel.invokeFunction('convertToInteractive',\n",
              "                                                     [key], {});\n",
              "          if (!dataTable) return;\n",
              "\n",
              "          const docLinkHtml = 'Like what you see? Visit the ' +\n",
              "            '<a target=\"_blank\" href=https://colab.research.google.com/notebooks/data_table.ipynb>data table notebook</a>'\n",
              "            + ' to learn more about interactive tables.';\n",
              "          element.innerHTML = '';\n",
              "          dataTable['output_type'] = 'display_data';\n",
              "          await google.colab.output.renderOutput(dataTable, element);\n",
              "          const docLink = document.createElement('div');\n",
              "          docLink.innerHTML = docLinkHtml;\n",
              "          element.appendChild(docLink);\n",
              "        }\n",
              "      </script>\n",
              "    </div>\n",
              "  </div>\n",
              "  "
            ]
          },
          "metadata": {},
          "execution_count": 473
        }
      ]
    },
    {
      "cell_type": "markdown",
      "source": [
        "## Skill model"
      ],
      "metadata": {
        "id": "BHHIJqqROkgE"
      }
    },
    {
      "cell_type": "code",
      "source": [
        "corpus_skill = df_skill['skills'] .tolist()"
      ],
      "metadata": {
        "id": "nkd2w3fPDQjm"
      },
      "execution_count": null,
      "outputs": []
    },
    {
      "cell_type": "code",
      "source": [
        "len(corpus_skill)"
      ],
      "metadata": {
        "colab": {
          "base_uri": "https://localhost:8080/"
        },
        "id": "wz-2F98TGnE9",
        "outputId": "6924a1ad-5ab3-4064-bb97-ba46d7003e76"
      },
      "execution_count": null,
      "outputs": [
        {
          "output_type": "execute_result",
          "data": {
            "text/plain": [
              "77"
            ]
          },
          "metadata": {},
          "execution_count": 373
        }
      ]
    },
    {
      "cell_type": "code",
      "source": [
        "corpus_skill"
      ],
      "metadata": {
        "id": "4sOsQpQ2EF8r"
      },
      "execution_count": null,
      "outputs": []
    },
    {
      "cell_type": "code",
      "source": [
        "model_skill = Word2Vec(corpus_skill, size=10, window=1, min_count=1, workers=4)\n"
      ],
      "metadata": {
        "colab": {
          "base_uri": "https://localhost:8080/"
        },
        "id": "oTavjLTySXzS",
        "outputId": "f8b91da0-945e-4de8-ebf0-06277b553c56"
      },
      "execution_count": null,
      "outputs": [
        {
          "output_type": "stream",
          "name": "stderr",
          "text": [
            "WARNING:gensim.models.base_any2vec:consider setting layer size to a multiple of 4 for greater performance\n",
            "WARNING:gensim.models.base_any2vec:under 10 jobs per worker: consider setting a smaller `batch_words' for smoother alpha decay\n"
          ]
        }
      ]
    },
    {
      "cell_type": "code",
      "source": [
        "model_skill.train(corpus_skill, total_examples=len(corpus_skill), epochs=5)"
      ],
      "metadata": {
        "colab": {
          "base_uri": "https://localhost:8080/"
        },
        "id": "cyfqWZwhQArJ",
        "outputId": "28ca22ad-4244-4d0f-dc74-43e012e6dd59"
      },
      "execution_count": null,
      "outputs": [
        {
          "output_type": "stream",
          "name": "stderr",
          "text": [
            "WARNING:gensim.models.base_any2vec:under 10 jobs per worker: consider setting a smaller `batch_words' for smoother alpha decay\n"
          ]
        },
        {
          "output_type": "execute_result",
          "data": {
            "text/plain": [
              "(8917, 14225)"
            ]
          },
          "metadata": {},
          "execution_count": 552
        }
      ]
    },
    {
      "cell_type": "code",
      "source": [
        "similar_words = model_skill.wv.most_similar('machine')\n",
        "similar_words"
      ],
      "metadata": {
        "colab": {
          "base_uri": "https://localhost:8080/"
        },
        "id": "vju8kIEVE5MV",
        "outputId": "7ff3c1b9-2f73-43d5-a433-d3cd7f1e9df7"
      },
      "execution_count": null,
      "outputs": [
        {
          "output_type": "execute_result",
          "data": {
            "text/plain": [
              "[('database', 0.9554028511047363),\n",
              " ('hive', 0.9436065554618835),\n",
              " ('processing', 0.9122926592826843),\n",
              " ('language', 0.887672483921051),\n",
              " ('scikit-learn', 0.8817493319511414),\n",
              " ('server', 0.8770807385444641),\n",
              " ('matlab', 0.8650325536727905),\n",
              " ('science', 0.8649402856826782),\n",
              " ('amazon', 0.8614377975463867),\n",
              " ('linux', 0.8611794710159302)]"
            ]
          },
          "metadata": {},
          "execution_count": 553
        }
      ]
    },
    {
      "cell_type": "code",
      "source": [
        "\"\"\"vectors3 = np.array(model3.wv.vectors)\n",
        "vectors4 = np.array(model4.wv.vectors)\n",
        "vectors5 = np.array(model5.wv.vectors)\n",
        "\n",
        "# Get the length of the longest vector\n",
        "max_length = max(len(vectors3), len(vectors5))\n",
        "\n",
        "# Pad the shorter vectors with zeros\n",
        "padded_vectors3 = np.pad(vectors3, ((0, max_length - len(vectors3)), (0, 0)), 'constant')\n",
        "padded_vectors4 = np.pad(vectors5, ((0, max_length - len(vectors5)), (0, 0)), 'constant')\n",
        "\n",
        "print(max_length)\n",
        "print(len(padded_vectors3))\n",
        "print(len(padded_vectors4))\n",
        "\n",
        "\n",
        "# Flatten the padded vectors into 1D arrays\n",
        "flattened_vectors3 = padded_vectors3.flatten()\n",
        "flattened_vectors4 = padded_vectors4.flatten()\n",
        "\"\"\""
      ],
      "metadata": {
        "id": "Q7V8JhQ6wm0D"
      },
      "execution_count": null,
      "outputs": []
    },
    {
      "cell_type": "markdown",
      "source": [
        "## Cosine"
      ],
      "metadata": {
        "id": "cbb5gaLxOrOk"
      }
    },
    {
      "cell_type": "code",
      "source": [
        "# Calculate the similarity\n",
        "similarity = 1 - cosine(flattened_vectors3, flattened_vectors4)\n",
        "print(similarity)"
      ],
      "metadata": {
        "colab": {
          "base_uri": "https://localhost:8080/"
        },
        "id": "OuFXzLXqvt1a",
        "outputId": "46d091a1-f15a-42da-994f-9269a75a7467"
      },
      "execution_count": null,
      "outputs": [
        {
          "output_type": "stream",
          "name": "stdout",
          "text": [
            "0.004382339306175709\n"
          ]
        }
      ]
    },
    {
      "cell_type": "markdown",
      "source": [
        "# COURSE OUTCOMES"
      ],
      "metadata": {
        "id": "pV1ela-GbZyE"
      }
    },
    {
      "cell_type": "markdown",
      "source": [
        "## Reading Outcomes"
      ],
      "metadata": {
        "id": "06jwNZr9C9kQ"
      }
    },
    {
      "cell_type": "code",
      "source": [
        "df_udemy = pd.read_csv(\"udemy_ML.csv\", header=None, sep=\";\")\n",
        "df_udemy[\"courses\"] = [row.split(\"{\")[2] for row in df_udemy[0]]\n",
        "df_udemy= df_udemy.drop(columns=0,axis=1)\n",
        "df_udemy[\"courses\"]=df_udemy[\"courses\"].str.replace(\"'Outcomes':\",\"\")\n",
        "df_udemy[\"courses\"]=df_udemy[\"courses\"].str.replace(\"[\",\"\")\n",
        "df_udemy[\"courses\"]=df_udemy[\"courses\"].str.replace(\"]\",\"\")\n",
        "df_udemy[\"courses\"]=df_udemy[\"courses\"].str.replace(\"}\",\"\")\n",
        "df_udemy[\"courses\"]=df_udemy[\"courses\"].str.replace(\"\\\"\",\"'\")\n",
        "df_udemy[\"courses\"]=df_udemy[\"courses\"].apply(lambda x : x + ',')\n",
        "\n",
        "#df_udemy['courses'] = df_udemy['courses'].apply(lambda x: x.split(\"'Outcomes': \")[1])\n",
        "\n",
        "df_udemy.head()"
      ],
      "metadata": {
        "id": "zxkPAwkxeb4U",
        "colab": {
          "base_uri": "https://localhost:8080/",
          "height": 0
        },
        "outputId": "3f20d576-f304-4d0f-b502-be10855ac14d"
      },
      "execution_count": 105,
      "outputs": [
        {
          "output_type": "execute_result",
          "data": {
            "text/plain": [
              "                                             courses\n",
              "0   'Master Machine Learning on Python & R', 'Hav...\n",
              "1   'Use Python for Data Science and Machine Lear...\n",
              "2   'You will learn how to use data science and m...\n",
              "3   'The course provides the entire toolbox you n...\n",
              "4   'Learn multiple techniques for missing data i..."
            ],
            "text/html": [
              "\n",
              "  <div id=\"df-0e994d65-fb2c-4060-be5f-64c6d381f630\">\n",
              "    <div class=\"colab-df-container\">\n",
              "      <div>\n",
              "<style scoped>\n",
              "    .dataframe tbody tr th:only-of-type {\n",
              "        vertical-align: middle;\n",
              "    }\n",
              "\n",
              "    .dataframe tbody tr th {\n",
              "        vertical-align: top;\n",
              "    }\n",
              "\n",
              "    .dataframe thead th {\n",
              "        text-align: right;\n",
              "    }\n",
              "</style>\n",
              "<table border=\"1\" class=\"dataframe\">\n",
              "  <thead>\n",
              "    <tr style=\"text-align: right;\">\n",
              "      <th></th>\n",
              "      <th>courses</th>\n",
              "    </tr>\n",
              "  </thead>\n",
              "  <tbody>\n",
              "    <tr>\n",
              "      <th>0</th>\n",
              "      <td>'Master Machine Learning on Python &amp; R', 'Hav...</td>\n",
              "    </tr>\n",
              "    <tr>\n",
              "      <th>1</th>\n",
              "      <td>'Use Python for Data Science and Machine Lear...</td>\n",
              "    </tr>\n",
              "    <tr>\n",
              "      <th>2</th>\n",
              "      <td>'You will learn how to use data science and m...</td>\n",
              "    </tr>\n",
              "    <tr>\n",
              "      <th>3</th>\n",
              "      <td>'The course provides the entire toolbox you n...</td>\n",
              "    </tr>\n",
              "    <tr>\n",
              "      <th>4</th>\n",
              "      <td>'Learn multiple techniques for missing data i...</td>\n",
              "    </tr>\n",
              "  </tbody>\n",
              "</table>\n",
              "</div>\n",
              "      <button class=\"colab-df-convert\" onclick=\"convertToInteractive('df-0e994d65-fb2c-4060-be5f-64c6d381f630')\"\n",
              "              title=\"Convert this dataframe to an interactive table.\"\n",
              "              style=\"display:none;\">\n",
              "        \n",
              "  <svg xmlns=\"http://www.w3.org/2000/svg\" height=\"24px\"viewBox=\"0 0 24 24\"\n",
              "       width=\"24px\">\n",
              "    <path d=\"M0 0h24v24H0V0z\" fill=\"none\"/>\n",
              "    <path d=\"M18.56 5.44l.94 2.06.94-2.06 2.06-.94-2.06-.94-.94-2.06-.94 2.06-2.06.94zm-11 1L8.5 8.5l.94-2.06 2.06-.94-2.06-.94L8.5 2.5l-.94 2.06-2.06.94zm10 10l.94 2.06.94-2.06 2.06-.94-2.06-.94-.94-2.06-.94 2.06-2.06.94z\"/><path d=\"M17.41 7.96l-1.37-1.37c-.4-.4-.92-.59-1.43-.59-.52 0-1.04.2-1.43.59L10.3 9.45l-7.72 7.72c-.78.78-.78 2.05 0 2.83L4 21.41c.39.39.9.59 1.41.59.51 0 1.02-.2 1.41-.59l7.78-7.78 2.81-2.81c.8-.78.8-2.07 0-2.86zM5.41 20L4 18.59l7.72-7.72 1.47 1.35L5.41 20z\"/>\n",
              "  </svg>\n",
              "      </button>\n",
              "      \n",
              "  <style>\n",
              "    .colab-df-container {\n",
              "      display:flex;\n",
              "      flex-wrap:wrap;\n",
              "      gap: 12px;\n",
              "    }\n",
              "\n",
              "    .colab-df-convert {\n",
              "      background-color: #E8F0FE;\n",
              "      border: none;\n",
              "      border-radius: 50%;\n",
              "      cursor: pointer;\n",
              "      display: none;\n",
              "      fill: #1967D2;\n",
              "      height: 32px;\n",
              "      padding: 0 0 0 0;\n",
              "      width: 32px;\n",
              "    }\n",
              "\n",
              "    .colab-df-convert:hover {\n",
              "      background-color: #E2EBFA;\n",
              "      box-shadow: 0px 1px 2px rgba(60, 64, 67, 0.3), 0px 1px 3px 1px rgba(60, 64, 67, 0.15);\n",
              "      fill: #174EA6;\n",
              "    }\n",
              "\n",
              "    [theme=dark] .colab-df-convert {\n",
              "      background-color: #3B4455;\n",
              "      fill: #D2E3FC;\n",
              "    }\n",
              "\n",
              "    [theme=dark] .colab-df-convert:hover {\n",
              "      background-color: #434B5C;\n",
              "      box-shadow: 0px 1px 3px 1px rgba(0, 0, 0, 0.15);\n",
              "      filter: drop-shadow(0px 1px 2px rgba(0, 0, 0, 0.3));\n",
              "      fill: #FFFFFF;\n",
              "    }\n",
              "  </style>\n",
              "\n",
              "      <script>\n",
              "        const buttonEl =\n",
              "          document.querySelector('#df-0e994d65-fb2c-4060-be5f-64c6d381f630 button.colab-df-convert');\n",
              "        buttonEl.style.display =\n",
              "          google.colab.kernel.accessAllowed ? 'block' : 'none';\n",
              "\n",
              "        async function convertToInteractive(key) {\n",
              "          const element = document.querySelector('#df-0e994d65-fb2c-4060-be5f-64c6d381f630');\n",
              "          const dataTable =\n",
              "            await google.colab.kernel.invokeFunction('convertToInteractive',\n",
              "                                                     [key], {});\n",
              "          if (!dataTable) return;\n",
              "\n",
              "          const docLinkHtml = 'Like what you see? Visit the ' +\n",
              "            '<a target=\"_blank\" href=https://colab.research.google.com/notebooks/data_table.ipynb>data table notebook</a>'\n",
              "            + ' to learn more about interactive tables.';\n",
              "          element.innerHTML = '';\n",
              "          dataTable['output_type'] = 'display_data';\n",
              "          await google.colab.output.renderOutput(dataTable, element);\n",
              "          const docLink = document.createElement('div');\n",
              "          docLink.innerHTML = docLinkHtml;\n",
              "          element.appendChild(docLink);\n",
              "        }\n",
              "      </script>\n",
              "    </div>\n",
              "  </div>\n",
              "  "
            ]
          },
          "metadata": {},
          "execution_count": 105
        }
      ]
    },
    {
      "cell_type": "code",
      "source": [
        "first_df = pd.DataFrame(columns=['courses', 'course'])\n",
        "pattern = \"'(.*?)',\"\n",
        "for i, row in enumerate(df_udemy[\"courses\"]):\n",
        "    lst = re.findall(pattern, row)\n",
        "    temp_df = pd.DataFrame({'courses': lst, 'course': [f'course {i}']*len(lst)})\n",
        "    first_df = first_df.append(temp_df, ignore_index=True)\n",
        "\n",
        "first_df= first_df.drop(columns=\"course\",axis=1)\n",
        "df = first_df.copy(deep=True)"
      ],
      "metadata": {
        "id": "qcEIcFDfeCRB"
      },
      "execution_count": 106,
      "outputs": []
    },
    {
      "cell_type": "markdown",
      "source": [
        "## Preprocess "
      ],
      "metadata": {
        "id": "4XyXIK18Puym"
      }
    },
    {
      "cell_type": "code",
      "source": [
        "df['courses'] = df['courses'].str.lower()\n"
      ],
      "metadata": {
        "id": "xRrSwka5uFCR"
      },
      "execution_count": 107,
      "outputs": []
    },
    {
      "cell_type": "code",
      "source": [
        "stop_words = stopwords.words('english')\n",
        "def tokenize(text):\n",
        "    tokens = nltk.word_tokenize(text)\n",
        "    return tokens\n",
        "# Remove stop words\n",
        "def remove_stop_words(tokens):\n",
        "    clean_tokens = [token for token in tokens if token.lower() not in stopwords.words('english')]\n",
        "    return clean_tokens\n",
        "def remove_punctuation(words):\n",
        "    \"\"\"Remove punctuation from list of tokenized words\"\"\"\n",
        "    new_words = []\n",
        "    for word in words:\n",
        "        new_word = re.sub(r'[^\\w\\s]', '', word)\n",
        "        if new_word != '':\n",
        "            new_words.append(new_word)\n",
        "    return new_words\n",
        "def lemmatize_words(words):\n",
        "  lemmatizer = WordNetLemmatizer()\n",
        "  lemmatized_words = [lemmatizer.lemmatize(word) for word in words]\n",
        "  return lemmatized_words\n",
        "\n",
        "\"\"\"def stem_words(words):\n",
        "  stemmer = PorterStemmer()\n",
        "  stemmed_words = [stemmer.stem(word) for word in words]\n",
        "  return stemmed_words\"\"\""
      ],
      "metadata": {
        "colab": {
          "base_uri": "https://localhost:8080/",
          "height": 0
        },
        "id": "57m7pNAYQPV3",
        "outputId": "9796e05b-a417-4576-d29b-15e07a989537"
      },
      "execution_count": 108,
      "outputs": [
        {
          "output_type": "execute_result",
          "data": {
            "text/plain": [
              "'def stem_words(words):\\n  stemmer = PorterStemmer()\\n  stemmed_words = [stemmer.stem(word) for word in words]\\n  return stemmed_words'"
            ],
            "application/vnd.google.colaboratory.intrinsic+json": {
              "type": "string"
            }
          },
          "metadata": {},
          "execution_count": 108
        }
      ]
    },
    {
      "cell_type": "code",
      "source": [
        "df['courses'] = df['courses'].apply(tokenize)"
      ],
      "metadata": {
        "id": "g7LYPpelQPTN"
      },
      "execution_count": 109,
      "outputs": []
    },
    {
      "cell_type": "code",
      "source": [
        "df.head()"
      ],
      "metadata": {
        "colab": {
          "base_uri": "https://localhost:8080/",
          "height": 0
        },
        "id": "htsjHFfQ85nZ",
        "outputId": "8f5d7eb6-92c6-48e8-8571-e7b11ac34ce2"
      },
      "execution_count": 110,
      "outputs": [
        {
          "output_type": "execute_result",
          "data": {
            "text/plain": [
              "                                             courses\n",
              "0      [master, machine, learning, on, python, &, r]\n",
              "1  [have, a, great, intuition, of, many, machine,...\n",
              "2                      [make, accurate, predictions]\n",
              "3                         [make, powerful, analysis]\n",
              "4          [make, robust, machine, learning, models]"
            ],
            "text/html": [
              "\n",
              "  <div id=\"df-c4397c47-dc35-4447-9367-308f1b418903\">\n",
              "    <div class=\"colab-df-container\">\n",
              "      <div>\n",
              "<style scoped>\n",
              "    .dataframe tbody tr th:only-of-type {\n",
              "        vertical-align: middle;\n",
              "    }\n",
              "\n",
              "    .dataframe tbody tr th {\n",
              "        vertical-align: top;\n",
              "    }\n",
              "\n",
              "    .dataframe thead th {\n",
              "        text-align: right;\n",
              "    }\n",
              "</style>\n",
              "<table border=\"1\" class=\"dataframe\">\n",
              "  <thead>\n",
              "    <tr style=\"text-align: right;\">\n",
              "      <th></th>\n",
              "      <th>courses</th>\n",
              "    </tr>\n",
              "  </thead>\n",
              "  <tbody>\n",
              "    <tr>\n",
              "      <th>0</th>\n",
              "      <td>[master, machine, learning, on, python, &amp;, r]</td>\n",
              "    </tr>\n",
              "    <tr>\n",
              "      <th>1</th>\n",
              "      <td>[have, a, great, intuition, of, many, machine,...</td>\n",
              "    </tr>\n",
              "    <tr>\n",
              "      <th>2</th>\n",
              "      <td>[make, accurate, predictions]</td>\n",
              "    </tr>\n",
              "    <tr>\n",
              "      <th>3</th>\n",
              "      <td>[make, powerful, analysis]</td>\n",
              "    </tr>\n",
              "    <tr>\n",
              "      <th>4</th>\n",
              "      <td>[make, robust, machine, learning, models]</td>\n",
              "    </tr>\n",
              "  </tbody>\n",
              "</table>\n",
              "</div>\n",
              "      <button class=\"colab-df-convert\" onclick=\"convertToInteractive('df-c4397c47-dc35-4447-9367-308f1b418903')\"\n",
              "              title=\"Convert this dataframe to an interactive table.\"\n",
              "              style=\"display:none;\">\n",
              "        \n",
              "  <svg xmlns=\"http://www.w3.org/2000/svg\" height=\"24px\"viewBox=\"0 0 24 24\"\n",
              "       width=\"24px\">\n",
              "    <path d=\"M0 0h24v24H0V0z\" fill=\"none\"/>\n",
              "    <path d=\"M18.56 5.44l.94 2.06.94-2.06 2.06-.94-2.06-.94-.94-2.06-.94 2.06-2.06.94zm-11 1L8.5 8.5l.94-2.06 2.06-.94-2.06-.94L8.5 2.5l-.94 2.06-2.06.94zm10 10l.94 2.06.94-2.06 2.06-.94-2.06-.94-.94-2.06-.94 2.06-2.06.94z\"/><path d=\"M17.41 7.96l-1.37-1.37c-.4-.4-.92-.59-1.43-.59-.52 0-1.04.2-1.43.59L10.3 9.45l-7.72 7.72c-.78.78-.78 2.05 0 2.83L4 21.41c.39.39.9.59 1.41.59.51 0 1.02-.2 1.41-.59l7.78-7.78 2.81-2.81c.8-.78.8-2.07 0-2.86zM5.41 20L4 18.59l7.72-7.72 1.47 1.35L5.41 20z\"/>\n",
              "  </svg>\n",
              "      </button>\n",
              "      \n",
              "  <style>\n",
              "    .colab-df-container {\n",
              "      display:flex;\n",
              "      flex-wrap:wrap;\n",
              "      gap: 12px;\n",
              "    }\n",
              "\n",
              "    .colab-df-convert {\n",
              "      background-color: #E8F0FE;\n",
              "      border: none;\n",
              "      border-radius: 50%;\n",
              "      cursor: pointer;\n",
              "      display: none;\n",
              "      fill: #1967D2;\n",
              "      height: 32px;\n",
              "      padding: 0 0 0 0;\n",
              "      width: 32px;\n",
              "    }\n",
              "\n",
              "    .colab-df-convert:hover {\n",
              "      background-color: #E2EBFA;\n",
              "      box-shadow: 0px 1px 2px rgba(60, 64, 67, 0.3), 0px 1px 3px 1px rgba(60, 64, 67, 0.15);\n",
              "      fill: #174EA6;\n",
              "    }\n",
              "\n",
              "    [theme=dark] .colab-df-convert {\n",
              "      background-color: #3B4455;\n",
              "      fill: #D2E3FC;\n",
              "    }\n",
              "\n",
              "    [theme=dark] .colab-df-convert:hover {\n",
              "      background-color: #434B5C;\n",
              "      box-shadow: 0px 1px 3px 1px rgba(0, 0, 0, 0.15);\n",
              "      filter: drop-shadow(0px 1px 2px rgba(0, 0, 0, 0.3));\n",
              "      fill: #FFFFFF;\n",
              "    }\n",
              "  </style>\n",
              "\n",
              "      <script>\n",
              "        const buttonEl =\n",
              "          document.querySelector('#df-c4397c47-dc35-4447-9367-308f1b418903 button.colab-df-convert');\n",
              "        buttonEl.style.display =\n",
              "          google.colab.kernel.accessAllowed ? 'block' : 'none';\n",
              "\n",
              "        async function convertToInteractive(key) {\n",
              "          const element = document.querySelector('#df-c4397c47-dc35-4447-9367-308f1b418903');\n",
              "          const dataTable =\n",
              "            await google.colab.kernel.invokeFunction('convertToInteractive',\n",
              "                                                     [key], {});\n",
              "          if (!dataTable) return;\n",
              "\n",
              "          const docLinkHtml = 'Like what you see? Visit the ' +\n",
              "            '<a target=\"_blank\" href=https://colab.research.google.com/notebooks/data_table.ipynb>data table notebook</a>'\n",
              "            + ' to learn more about interactive tables.';\n",
              "          element.innerHTML = '';\n",
              "          dataTable['output_type'] = 'display_data';\n",
              "          await google.colab.output.renderOutput(dataTable, element);\n",
              "          const docLink = document.createElement('div');\n",
              "          docLink.innerHTML = docLinkHtml;\n",
              "          element.appendChild(docLink);\n",
              "        }\n",
              "      </script>\n",
              "    </div>\n",
              "  </div>\n",
              "  "
            ]
          },
          "metadata": {},
          "execution_count": 110
        }
      ]
    },
    {
      "cell_type": "code",
      "source": [
        "df['courses'] = df['courses'].apply(remove_stop_words)\n",
        "df['courses'] = df['courses'].apply(remove_punctuation)\n",
        "df['courses'] = df['courses'].apply(lemmatize_words)\n"
      ],
      "metadata": {
        "id": "FW-heTyMqtUY"
      },
      "execution_count": 111,
      "outputs": []
    },
    {
      "cell_type": "code",
      "source": [
        "df.head()"
      ],
      "metadata": {
        "colab": {
          "base_uri": "https://localhost:8080/",
          "height": 0
        },
        "id": "ka6m1uDd8-k7",
        "outputId": "9affe560-5609-468c-8acc-31b55e1524e0"
      },
      "execution_count": 112,
      "outputs": [
        {
          "output_type": "execute_result",
          "data": {
            "text/plain": [
              "                                             courses\n",
              "0             [master, machine, learning, python, r]\n",
              "1  [great, intuition, many, machine, learning, mo...\n",
              "2                       [make, accurate, prediction]\n",
              "3                         [make, powerful, analysis]\n",
              "4           [make, robust, machine, learning, model]"
            ],
            "text/html": [
              "\n",
              "  <div id=\"df-e6c27592-8b54-4df2-a263-9bd5802e82ab\">\n",
              "    <div class=\"colab-df-container\">\n",
              "      <div>\n",
              "<style scoped>\n",
              "    .dataframe tbody tr th:only-of-type {\n",
              "        vertical-align: middle;\n",
              "    }\n",
              "\n",
              "    .dataframe tbody tr th {\n",
              "        vertical-align: top;\n",
              "    }\n",
              "\n",
              "    .dataframe thead th {\n",
              "        text-align: right;\n",
              "    }\n",
              "</style>\n",
              "<table border=\"1\" class=\"dataframe\">\n",
              "  <thead>\n",
              "    <tr style=\"text-align: right;\">\n",
              "      <th></th>\n",
              "      <th>courses</th>\n",
              "    </tr>\n",
              "  </thead>\n",
              "  <tbody>\n",
              "    <tr>\n",
              "      <th>0</th>\n",
              "      <td>[master, machine, learning, python, r]</td>\n",
              "    </tr>\n",
              "    <tr>\n",
              "      <th>1</th>\n",
              "      <td>[great, intuition, many, machine, learning, mo...</td>\n",
              "    </tr>\n",
              "    <tr>\n",
              "      <th>2</th>\n",
              "      <td>[make, accurate, prediction]</td>\n",
              "    </tr>\n",
              "    <tr>\n",
              "      <th>3</th>\n",
              "      <td>[make, powerful, analysis]</td>\n",
              "    </tr>\n",
              "    <tr>\n",
              "      <th>4</th>\n",
              "      <td>[make, robust, machine, learning, model]</td>\n",
              "    </tr>\n",
              "  </tbody>\n",
              "</table>\n",
              "</div>\n",
              "      <button class=\"colab-df-convert\" onclick=\"convertToInteractive('df-e6c27592-8b54-4df2-a263-9bd5802e82ab')\"\n",
              "              title=\"Convert this dataframe to an interactive table.\"\n",
              "              style=\"display:none;\">\n",
              "        \n",
              "  <svg xmlns=\"http://www.w3.org/2000/svg\" height=\"24px\"viewBox=\"0 0 24 24\"\n",
              "       width=\"24px\">\n",
              "    <path d=\"M0 0h24v24H0V0z\" fill=\"none\"/>\n",
              "    <path d=\"M18.56 5.44l.94 2.06.94-2.06 2.06-.94-2.06-.94-.94-2.06-.94 2.06-2.06.94zm-11 1L8.5 8.5l.94-2.06 2.06-.94-2.06-.94L8.5 2.5l-.94 2.06-2.06.94zm10 10l.94 2.06.94-2.06 2.06-.94-2.06-.94-.94-2.06-.94 2.06-2.06.94z\"/><path d=\"M17.41 7.96l-1.37-1.37c-.4-.4-.92-.59-1.43-.59-.52 0-1.04.2-1.43.59L10.3 9.45l-7.72 7.72c-.78.78-.78 2.05 0 2.83L4 21.41c.39.39.9.59 1.41.59.51 0 1.02-.2 1.41-.59l7.78-7.78 2.81-2.81c.8-.78.8-2.07 0-2.86zM5.41 20L4 18.59l7.72-7.72 1.47 1.35L5.41 20z\"/>\n",
              "  </svg>\n",
              "      </button>\n",
              "      \n",
              "  <style>\n",
              "    .colab-df-container {\n",
              "      display:flex;\n",
              "      flex-wrap:wrap;\n",
              "      gap: 12px;\n",
              "    }\n",
              "\n",
              "    .colab-df-convert {\n",
              "      background-color: #E8F0FE;\n",
              "      border: none;\n",
              "      border-radius: 50%;\n",
              "      cursor: pointer;\n",
              "      display: none;\n",
              "      fill: #1967D2;\n",
              "      height: 32px;\n",
              "      padding: 0 0 0 0;\n",
              "      width: 32px;\n",
              "    }\n",
              "\n",
              "    .colab-df-convert:hover {\n",
              "      background-color: #E2EBFA;\n",
              "      box-shadow: 0px 1px 2px rgba(60, 64, 67, 0.3), 0px 1px 3px 1px rgba(60, 64, 67, 0.15);\n",
              "      fill: #174EA6;\n",
              "    }\n",
              "\n",
              "    [theme=dark] .colab-df-convert {\n",
              "      background-color: #3B4455;\n",
              "      fill: #D2E3FC;\n",
              "    }\n",
              "\n",
              "    [theme=dark] .colab-df-convert:hover {\n",
              "      background-color: #434B5C;\n",
              "      box-shadow: 0px 1px 3px 1px rgba(0, 0, 0, 0.15);\n",
              "      filter: drop-shadow(0px 1px 2px rgba(0, 0, 0, 0.3));\n",
              "      fill: #FFFFFF;\n",
              "    }\n",
              "  </style>\n",
              "\n",
              "      <script>\n",
              "        const buttonEl =\n",
              "          document.querySelector('#df-e6c27592-8b54-4df2-a263-9bd5802e82ab button.colab-df-convert');\n",
              "        buttonEl.style.display =\n",
              "          google.colab.kernel.accessAllowed ? 'block' : 'none';\n",
              "\n",
              "        async function convertToInteractive(key) {\n",
              "          const element = document.querySelector('#df-e6c27592-8b54-4df2-a263-9bd5802e82ab');\n",
              "          const dataTable =\n",
              "            await google.colab.kernel.invokeFunction('convertToInteractive',\n",
              "                                                     [key], {});\n",
              "          if (!dataTable) return;\n",
              "\n",
              "          const docLinkHtml = 'Like what you see? Visit the ' +\n",
              "            '<a target=\"_blank\" href=https://colab.research.google.com/notebooks/data_table.ipynb>data table notebook</a>'\n",
              "            + ' to learn more about interactive tables.';\n",
              "          element.innerHTML = '';\n",
              "          dataTable['output_type'] = 'display_data';\n",
              "          await google.colab.output.renderOutput(dataTable, element);\n",
              "          const docLink = document.createElement('div');\n",
              "          docLink.innerHTML = docLinkHtml;\n",
              "          element.appendChild(docLink);\n",
              "        }\n",
              "      </script>\n",
              "    </div>\n",
              "  </div>\n",
              "  "
            ]
          },
          "metadata": {},
          "execution_count": 112
        }
      ]
    },
    {
      "cell_type": "markdown",
      "source": [
        "## Model"
      ],
      "metadata": {
        "id": "pGOafCM9yBpw"
      }
    },
    {
      "cell_type": "code",
      "source": [
        "corpus = df['courses'] .tolist()"
      ],
      "metadata": {
        "id": "i0w2BndTlQsR"
      },
      "execution_count": 113,
      "outputs": []
    },
    {
      "cell_type": "code",
      "source": [
        "corpus"
      ],
      "metadata": {
        "id": "0XxhcKvjENwO"
      },
      "execution_count": null,
      "outputs": []
    },
    {
      "cell_type": "markdown",
      "source": [
        "### Finding optimal hyperparameters"
      ],
      "metadata": {
        "id": "rY6KWwvAxvkm"
      }
    },
    {
      "cell_type": "markdown",
      "source": [
        "size: The dimensionality of the word vectors that the model will learn\n",
        "\n",
        " window: The size of the context window used to predict the target word\n",
        "\n",
        " min_count: The minimum number of times a word must appear in the corpus to be included in the model\n",
        "\n",
        " workers: The number of worker threads to use for training the mode"
      ],
      "metadata": {
        "id": "1zwJb30kyiU_"
      }
    },
    {
      "cell_type": "code",
      "source": [
        "def train_word2vec(corpus, word1, word2, min_size=50, max_size=100, min_window=5, max_window=10, min_count=1, workers=4):\n",
        "  best_size = min_size\n",
        "  best_window = min_window\n",
        "  best_min_count = min_count\n",
        "  best_model = None\n",
        "  best_score = -float('inf')\n",
        "\n",
        "  for size in range(min_size, max_size + 1):\n",
        "    for window in range(min_window, max_window + 1):\n",
        "      for min_count in range(1, 3):\n",
        "        model = Word2Vec(corpus, size=size, window=window, min_count=min_count, workers=workers)\n",
        "        model.train(corpus, total_examples=len(corpus), epochs=15)\n",
        "        score = model.wv.similarity(word1, word2)\n",
        "        if score > best_score:\n",
        "          best_size = size\n",
        "          best_window = window\n",
        "          best_min_count = min_count\n",
        "          best_model = model\n",
        "          best_score = score\n",
        "\n",
        "  print(f'Best size: {best_size}')\n",
        "  print(f'Best window: {best_window}')\n",
        "  print(f'Best min_count: {best_min_count}')\n",
        "  return best_model\n"
      ],
      "metadata": {
        "id": "j4kX3qbryIgo"
      },
      "execution_count": 115,
      "outputs": []
    },
    {
      "cell_type": "markdown",
      "source": [
        "Printing top 5 frequent pair of words in corpus for using them finding the optimal hyperparameters."
      ],
      "metadata": {
        "id": "wRNTQ-531NjQ"
      }
    },
    {
      "cell_type": "code",
      "source": [
        "def most_frequent_pair(corpus):\n",
        "  # Flatten the corpus list of lists into a single list\n",
        "  flat_corpus = [word for sublist in corpus for word in sublist]\n",
        "  # Initialize a counter to count the frequency of each pair of words\n",
        "  pair_counts = Counter()\n",
        "  # Iterate through the flat corpus and count the frequency of each pair of words\n",
        "  for i in range(len(flat_corpus)-1):\n",
        "    pair = (flat_corpus[i], flat_corpus[i+1])\n",
        "    pair_counts[pair] += 1\n",
        "  # Find the top 5 most frequent pairs of words\n",
        "  top_pairs = pair_counts.most_common(5)\n",
        "  return top_pairs\n",
        "\n",
        "print(most_frequent_pair(corpus))"
      ],
      "metadata": {
        "colab": {
          "base_uri": "https://localhost:8080/"
        },
        "id": "96KT-BYJ08i3",
        "outputId": "1ebafadd-8303-4309-d236-36bf0e1d0d37"
      },
      "execution_count": 114,
      "outputs": [
        {
          "output_type": "stream",
          "name": "stdout",
          "text": [
            "[(('machine', 'learning'), 37), (('neural', 'network'), 16), (('data', 'science'), 11), (('learning', 'algorithm'), 9), (('deep', 'learning'), 8)]\n"
          ]
        }
      ]
    },
    {
      "cell_type": "markdown",
      "source": [
        "We will use only three of them.\n",
        "[(('machine', 'learning'), 37), (('neural', 'network'), 16), (('data', 'science'), 11), (('learning', 'algorithm'), 9), (('deep', 'learning'), 8)]\n"
      ],
      "metadata": {
        "id": "sJg_xoid3FY1"
      }
    },
    {
      "cell_type": "code",
      "source": [
        "train_word2vec(corpus,'neural','network' ,min_size=50, max_size=100, min_window=1, max_window=10, min_count=1, workers=4)"
      ],
      "metadata": {
        "colab": {
          "base_uri": "https://localhost:8080/"
        },
        "id": "KQidHd0Qz6HZ",
        "outputId": "325a19ff-28c7-4a4d-8695-7803cfa447d3"
      },
      "execution_count": 116,
      "outputs": [
        {
          "output_type": "stream",
          "name": "stdout",
          "text": [
            "Best size: 99\n",
            "Best window: 10\n",
            "Best min_count: 1\n"
          ]
        },
        {
          "output_type": "execute_result",
          "data": {
            "text/plain": [
              "<gensim.models.word2vec.Word2Vec at 0x7f25a6640100>"
            ]
          },
          "metadata": {},
          "execution_count": 116
        }
      ]
    },
    {
      "cell_type": "code",
      "source": [
        "train_word2vec(corpus,'data','science' ,min_size=50, max_size=100, min_window=1, max_window=10, min_count=1, workers=4)"
      ],
      "metadata": {
        "colab": {
          "base_uri": "https://localhost:8080/"
        },
        "id": "BndLLK0Wz4GZ",
        "outputId": "a9fc0413-c9e1-4225-cf37-20f1501518c3"
      },
      "execution_count": 117,
      "outputs": [
        {
          "output_type": "stream",
          "name": "stdout",
          "text": [
            "Best size: 55\n",
            "Best window: 7\n",
            "Best min_count: 2\n"
          ]
        },
        {
          "output_type": "execute_result",
          "data": {
            "text/plain": [
              "<gensim.models.word2vec.Word2Vec at 0x7f25a5f3b580>"
            ]
          },
          "metadata": {},
          "execution_count": 117
        }
      ]
    },
    {
      "cell_type": "code",
      "source": [
        "train_word2vec(corpus,'machine','learning' ,min_size=50, max_size=100, min_window=1, max_window=10, min_count=1, workers=4)"
      ],
      "metadata": {
        "colab": {
          "base_uri": "https://localhost:8080/"
        },
        "id": "8dVMV9KlyUhS",
        "outputId": "c8014863-11cb-4221-b6f2-9646113cac7b"
      },
      "execution_count": 118,
      "outputs": [
        {
          "output_type": "stream",
          "name": "stdout",
          "text": [
            "Best size: 50\n",
            "Best window: 8\n",
            "Best min_count: 2\n"
          ]
        },
        {
          "output_type": "execute_result",
          "data": {
            "text/plain": [
              "<gensim.models.word2vec.Word2Vec at 0x7f25a5ae6160>"
            ]
          },
          "metadata": {},
          "execution_count": 118
        }
      ]
    },
    {
      "cell_type": "markdown",
      "source": [
        "**Results for \"neural network\" min distance**\n",
        "\n",
        "Best  size: 99\n",
        "\n",
        "Best window: 10\n",
        "\n",
        "Best min_count: 1\n",
        "\n",
        "**Results for \"data science\" min distance**\n",
        "\n",
        "Best size: 55\n",
        "\n",
        "Best window: 7\n",
        "\n",
        "Best min_count: 2\n",
        "\n",
        "**Results for \"machine learning\" min distance**\n",
        "\n",
        "Best size: 50\n",
        "\n",
        "Best window: 8\n",
        "\n",
        "Best min_count: 2\n",
        "\n"
      ],
      "metadata": {
        "id": "RiiM-nqD4JZz"
      }
    },
    {
      "cell_type": "markdown",
      "source": [
        "After compared 3 different similarity we decided to use neural network hyperparameters."
      ],
      "metadata": {
        "id": "8qt9G1yp913V"
      }
    },
    {
      "cell_type": "markdown",
      "source": [
        "**With neural network hyperparameters**\n",
        "\n",
        "- Sim(data,scince) 0.82586724\n",
        "\n",
        "- Sim(neural,network) 0.8188135\n",
        "\n",
        "- Sim(machine,learning) 0.9418734\n",
        "\n",
        "\n",
        "**With data science hyperparameters**\n",
        "\n",
        "- Sim(data,scince) 0.8763663\n",
        "\n",
        "- Sim(neural,network) 0.7670939\n",
        "\n",
        "- Sim(machine,learning) 0.946057\n",
        "\n",
        "\n",
        "**With machine learning hyperparameters**\n",
        "\n",
        "- Sim(data,scince) 0.7845713\n",
        "\n",
        "- Sim(neural,network) 0.7333079\n",
        "\n",
        "- Sim(machine,learning) 0.95651054\n",
        "\n",
        "\n"
      ],
      "metadata": {
        "id": "E1lCdBRu-IfT"
      }
    },
    {
      "cell_type": "code",
      "source": [
        "model = gensim.models.Word2Vec(corpus, size=99, window=10, min_count=1, workers=4)"
      ],
      "metadata": {
        "id": "R-mhNLoylWSv"
      },
      "execution_count": 119,
      "outputs": []
    },
    {
      "cell_type": "code",
      "source": [
        "model.train(corpus, total_examples=len(corpus), epochs=15)"
      ],
      "metadata": {
        "colab": {
          "base_uri": "https://localhost:8080/"
        },
        "id": "4GOjTlhOlc_j",
        "outputId": "851f9e26-5730-434d-92a1-9ee7e3fc64f2"
      },
      "execution_count": 120,
      "outputs": [
        {
          "output_type": "execute_result",
          "data": {
            "text/plain": [
              "(15029, 20445)"
            ]
          },
          "metadata": {},
          "execution_count": 120
        }
      ]
    },
    {
      "cell_type": "code",
      "source": [
        "model.save(\"course.model\")"
      ],
      "metadata": {
        "id": "ebNjc13LdWTs"
      },
      "execution_count": 103,
      "outputs": []
    },
    {
      "cell_type": "code",
      "source": [
        "similarity = model.similarity('data', 'science')\n",
        "similarity"
      ],
      "metadata": {
        "colab": {
          "base_uri": "https://localhost:8080/"
        },
        "id": "3lqkVpN66pDT",
        "outputId": "627d8a66-dc28-4931-c6e6-ef0e7b6e197b"
      },
      "execution_count": 121,
      "outputs": [
        {
          "output_type": "execute_result",
          "data": {
            "text/plain": [
              "0.82586724"
            ]
          },
          "metadata": {},
          "execution_count": 121
        }
      ]
    },
    {
      "cell_type": "code",
      "source": [
        "similarity = model.similarity('neural', 'network')\n",
        "similarity"
      ],
      "metadata": {
        "colab": {
          "base_uri": "https://localhost:8080/"
        },
        "id": "wlS04IbZ67g0",
        "outputId": "d3cf7a68-fb5b-46c1-f38d-1b9d22eb9d84"
      },
      "execution_count": 122,
      "outputs": [
        {
          "output_type": "execute_result",
          "data": {
            "text/plain": [
              "0.8188135"
            ]
          },
          "metadata": {},
          "execution_count": 122
        }
      ]
    },
    {
      "cell_type": "code",
      "source": [
        "similarity = model.similarity('machine', 'learning')\n",
        "similarity"
      ],
      "metadata": {
        "colab": {
          "base_uri": "https://localhost:8080/"
        },
        "id": "EZ9Y2XuR67Wa",
        "outputId": "dd4f0cb6-36f6-4167-d108-e8222e681a85"
      },
      "execution_count": 123,
      "outputs": [
        {
          "output_type": "execute_result",
          "data": {
            "text/plain": [
              "0.9418734"
            ]
          },
          "metadata": {},
          "execution_count": 123
        }
      ]
    },
    {
      "cell_type": "code",
      "source": [
        "similar_words = model.wv.most_similar('machine')\n",
        "similar_words"
      ],
      "metadata": {
        "colab": {
          "base_uri": "https://localhost:8080/"
        },
        "id": "Fbi8mVTAlo6G",
        "outputId": "4450ba6e-53ef-407d-bab3-7275c1619024"
      },
      "execution_count": 124,
      "outputs": [
        {
          "output_type": "execute_result",
          "data": {
            "text/plain": [
              "[('learning', 0.94187331199646),\n",
              " ('data', 0.918445348739624),\n",
              " ('using', 0.9167494177818298),\n",
              " ('service', 0.9072754979133606),\n",
              " ('sagemaker', 0.9031240940093994),\n",
              " ('algorithm', 0.8981636762619019),\n",
              " ('learn', 0.8977909684181213),\n",
              " ('model', 0.8946993947029114),\n",
              " ('lambda', 0.8853323459625244),\n",
              " ('deep', 0.8831156492233276)]"
            ]
          },
          "metadata": {},
          "execution_count": 124
        }
      ]
    },
    {
      "cell_type": "code",
      "source": [
        "print(len(model.wv[\"machine\"]))\n",
        "print(model.wv[\"machine\"].shape)\n",
        "print(model.wv[\"machine\"].ndim)\n",
        "\n",
        "model.wv[\"machine\"]"
      ],
      "metadata": {
        "colab": {
          "base_uri": "https://localhost:8080/"
        },
        "id": "yJayDrIaSIGp",
        "outputId": "c4b3b979-50cf-44e2-fa38-5ec85085132e"
      },
      "execution_count": null,
      "outputs": [
        {
          "output_type": "stream",
          "name": "stdout",
          "text": [
            "100\n",
            "(100,)\n",
            "1\n"
          ]
        },
        {
          "output_type": "execute_result",
          "data": {
            "text/plain": [
              "array([-3.5548713e-03,  3.6473700e-03, -3.4205206e-03,  3.4715533e-03,\n",
              "        2.4745730e-03,  4.1808756e-03,  3.4915418e-03, -1.9654185e-04,\n",
              "        3.0310501e-03, -1.8700834e-03,  4.5849737e-03,  3.1068365e-03,\n",
              "       -4.8355581e-03,  3.6351764e-04,  4.6417047e-03, -1.6600027e-03,\n",
              "        4.2728903e-03, -4.2808917e-03,  3.9515682e-03, -2.8317496e-03,\n",
              "       -2.6362631e-03,  3.0372853e-03,  8.3668745e-04,  3.7042142e-03,\n",
              "        4.1410159e-03,  1.2338447e-03, -9.6488273e-04, -9.5823267e-04,\n",
              "       -1.8911565e-03,  3.9345063e-03, -1.7520247e-03, -2.8719655e-03,\n",
              "       -8.9067194e-05, -1.2254577e-04,  1.5388351e-03,  3.5948397e-03,\n",
              "       -4.8795197e-04,  3.1682153e-03, -1.3300584e-03,  3.4716185e-03,\n",
              "        1.7750742e-03,  4.8758835e-03, -3.2572483e-03, -3.8179050e-03,\n",
              "       -4.8411097e-03,  1.2488248e-03, -2.4996279e-03,  2.2546984e-03,\n",
              "       -3.7018296e-03, -1.8039325e-03, -4.1726453e-04,  3.9929617e-03,\n",
              "        3.9295107e-03, -4.2859213e-03, -1.5074640e-03, -1.1725652e-03,\n",
              "       -2.8312202e-03, -4.2487304e-03,  4.6725618e-03, -6.8091444e-04,\n",
              "        4.3587415e-03, -2.7031130e-03,  1.3202886e-03,  3.7765752e-03,\n",
              "        3.7876805e-03, -2.0033219e-03, -9.3639101e-04, -1.3518638e-03,\n",
              "        1.5176131e-04,  3.6818397e-03,  4.9804659e-03,  3.0253129e-03,\n",
              "       -1.9099753e-03,  1.7545997e-04,  3.0483091e-03, -2.7112442e-03,\n",
              "       -2.5202776e-03,  1.1024382e-03, -4.7302335e-03, -6.3830352e-04,\n",
              "       -3.1665000e-04,  2.5418901e-03,  9.1631938e-04, -4.4761160e-03,\n",
              "       -4.8973779e-03, -4.9168919e-03, -3.2939904e-03, -3.2059378e-03,\n",
              "        4.7862940e-03, -8.6013559e-04,  3.9528017e-03, -4.7846911e-03,\n",
              "       -3.2667411e-03,  3.7004240e-03, -1.5256940e-03, -1.0002381e-03,\n",
              "        4.9089309e-04,  5.9733243e-04,  1.3897057e-03,  9.1980788e-04],\n",
              "      dtype=float32)"
            ]
          },
          "metadata": {},
          "execution_count": 403
        }
      ]
    },
    {
      "cell_type": "code",
      "source": [
        "print(len(model.wv[\"learning\"]))\n",
        "print(model.wv[\"learning\"].shape)\n",
        "print(model.wv[\"learning\"].ndim)\n",
        "\n",
        "model.wv[\"learning\"]"
      ],
      "metadata": {
        "colab": {
          "base_uri": "https://localhost:8080/"
        },
        "id": "2NWZPhZ6Ow2T",
        "outputId": "5d8ac2ad-2439-46af-9595-c1d42442e179"
      },
      "execution_count": null,
      "outputs": [
        {
          "output_type": "stream",
          "name": "stdout",
          "text": [
            "100\n",
            "(100,)\n",
            "1\n"
          ]
        },
        {
          "output_type": "execute_result",
          "data": {
            "text/plain": [
              "array([-3.5757835e-03, -1.9550642e-03,  4.2725555e-04,  4.0496876e-03,\n",
              "       -9.3915308e-04, -3.6598570e-03,  3.4887780e-04,  4.7978014e-04,\n",
              "        3.8146204e-03, -3.4307104e-03, -3.2335392e-03, -4.2028781e-03,\n",
              "        4.1947741e-04, -2.7545970e-03,  4.8324959e-03,  2.7034085e-03,\n",
              "       -4.2450047e-04, -9.4674004e-04,  1.8853318e-03,  3.8270871e-03,\n",
              "       -3.8184747e-03, -2.3709363e-03,  5.2769732e-04,  3.1546287e-03,\n",
              "        1.0086988e-03,  2.4366754e-03, -2.8738165e-03, -1.6286762e-03,\n",
              "        4.6827845e-04,  9.4134906e-05,  8.7786957e-06,  4.2263521e-03,\n",
              "        2.6477831e-03,  3.2830706e-03,  4.0514343e-03, -3.0289168e-04,\n",
              "        1.2665197e-03, -2.2082457e-03,  1.2217036e-03,  1.8201055e-03,\n",
              "        2.4717313e-03, -3.5751974e-03,  1.9922203e-03, -2.7593004e-04,\n",
              "       -2.6535941e-03,  1.2317039e-03,  1.3978541e-03, -3.4642483e-03,\n",
              "        2.7899621e-03, -1.1192106e-03, -3.9320234e-03,  4.3420875e-03,\n",
              "        1.1351712e-03,  4.6668644e-03,  4.6275629e-05,  4.7382214e-03,\n",
              "        1.0462360e-03, -1.3139077e-03,  2.6235408e-03, -1.4270735e-03,\n",
              "        4.0154401e-03, -4.7988575e-03,  3.9157188e-03,  2.4893517e-03,\n",
              "       -4.6323370e-03,  1.0833726e-03, -1.1397817e-03,  1.8703036e-03,\n",
              "       -3.5233176e-03,  4.4434988e-03,  3.2154103e-03, -1.0985374e-04,\n",
              "        1.9512034e-03,  2.9932382e-03, -3.5759970e-03, -3.7282810e-03,\n",
              "        3.3174527e-03, -1.4296054e-03, -4.1513465e-04, -4.2909225e-03,\n",
              "       -1.2727178e-03,  6.3038809e-04,  2.6087149e-03,  4.9916329e-03,\n",
              "        3.3319113e-04, -1.4462451e-03,  2.1512164e-03, -1.7814719e-03,\n",
              "       -2.2222272e-03, -4.3422173e-04,  8.6309644e-04,  1.8799240e-03,\n",
              "       -3.9335256e-03,  4.9744868e-03,  3.9494662e-03,  5.5693462e-04,\n",
              "        1.5995778e-03,  3.1047568e-03,  4.2120237e-03,  2.5917245e-03],\n",
              "      dtype=float32)"
            ]
          },
          "metadata": {},
          "execution_count": 404
        }
      ]
    }
  ]
}