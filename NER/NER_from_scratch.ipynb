{
 "cells": [
  {
   "cell_type": "code",
   "execution_count": 1,
   "metadata": {},
   "outputs": [],
   "source": [
    "import matplotlib.pyplot as plt\n",
    "import pandas as pd\n",
    "import numpy as np\n",
    "np.random.seed(0)\n",
    "import tensorflow as tf"
   ]
  },
  {
   "cell_type": "code",
   "execution_count": 2,
   "metadata": {},
   "outputs": [
    {
     "data": {
      "text/html": [
       "<div>\n",
       "<style scoped>\n",
       "    .dataframe tbody tr th:only-of-type {\n",
       "        vertical-align: middle;\n",
       "    }\n",
       "\n",
       "    .dataframe tbody tr th {\n",
       "        vertical-align: top;\n",
       "    }\n",
       "\n",
       "    .dataframe thead th {\n",
       "        text-align: right;\n",
       "    }\n",
       "</style>\n",
       "<table border=\"1\" class=\"dataframe\">\n",
       "  <thead>\n",
       "    <tr style=\"text-align: right;\">\n",
       "      <th></th>\n",
       "      <th>word</th>\n",
       "      <th>course</th>\n",
       "      <th>sentence</th>\n",
       "      <th>tag</th>\n",
       "    </tr>\n",
       "  </thead>\n",
       "  <tbody>\n",
       "    <tr>\n",
       "      <th>0</th>\n",
       "      <td>master</td>\n",
       "      <td>course 0</td>\n",
       "      <td>Sentence 0</td>\n",
       "      <td>O</td>\n",
       "    </tr>\n",
       "    <tr>\n",
       "      <th>1</th>\n",
       "      <td>machine</td>\n",
       "      <td>course 0</td>\n",
       "      <td>Sentence 0</td>\n",
       "      <td>B-skill</td>\n",
       "    </tr>\n",
       "    <tr>\n",
       "      <th>2</th>\n",
       "      <td>learning</td>\n",
       "      <td>course 0</td>\n",
       "      <td>Sentence 0</td>\n",
       "      <td>I-skill</td>\n",
       "    </tr>\n",
       "    <tr>\n",
       "      <th>3</th>\n",
       "      <td>on</td>\n",
       "      <td>course 0</td>\n",
       "      <td>Sentence 0</td>\n",
       "      <td>O</td>\n",
       "    </tr>\n",
       "    <tr>\n",
       "      <th>4</th>\n",
       "      <td>python</td>\n",
       "      <td>course 0</td>\n",
       "      <td>Sentence 0</td>\n",
       "      <td>B-skill</td>\n",
       "    </tr>\n",
       "    <tr>\n",
       "      <th>5</th>\n",
       "      <td>r</td>\n",
       "      <td>course 0</td>\n",
       "      <td>Sentence 0</td>\n",
       "      <td>O</td>\n",
       "    </tr>\n",
       "    <tr>\n",
       "      <th>6</th>\n",
       "      <td>have</td>\n",
       "      <td>course 0</td>\n",
       "      <td>Sentence 1</td>\n",
       "      <td>O</td>\n",
       "    </tr>\n",
       "    <tr>\n",
       "      <th>7</th>\n",
       "      <td>a</td>\n",
       "      <td>course 0</td>\n",
       "      <td>Sentence 1</td>\n",
       "      <td>O</td>\n",
       "    </tr>\n",
       "    <tr>\n",
       "      <th>8</th>\n",
       "      <td>great</td>\n",
       "      <td>course 0</td>\n",
       "      <td>Sentence 1</td>\n",
       "      <td>O</td>\n",
       "    </tr>\n",
       "    <tr>\n",
       "      <th>9</th>\n",
       "      <td>intuition</td>\n",
       "      <td>course 0</td>\n",
       "      <td>Sentence 1</td>\n",
       "      <td>O</td>\n",
       "    </tr>\n",
       "    <tr>\n",
       "      <th>10</th>\n",
       "      <td>of</td>\n",
       "      <td>course 0</td>\n",
       "      <td>Sentence 1</td>\n",
       "      <td>O</td>\n",
       "    </tr>\n",
       "    <tr>\n",
       "      <th>11</th>\n",
       "      <td>many</td>\n",
       "      <td>course 0</td>\n",
       "      <td>Sentence 1</td>\n",
       "      <td>O</td>\n",
       "    </tr>\n",
       "    <tr>\n",
       "      <th>12</th>\n",
       "      <td>machine</td>\n",
       "      <td>course 0</td>\n",
       "      <td>Sentence 1</td>\n",
       "      <td>B-skill</td>\n",
       "    </tr>\n",
       "    <tr>\n",
       "      <th>13</th>\n",
       "      <td>learning</td>\n",
       "      <td>course 0</td>\n",
       "      <td>Sentence 1</td>\n",
       "      <td>I-skill</td>\n",
       "    </tr>\n",
       "    <tr>\n",
       "      <th>14</th>\n",
       "      <td>models</td>\n",
       "      <td>course 0</td>\n",
       "      <td>Sentence 1</td>\n",
       "      <td>O</td>\n",
       "    </tr>\n",
       "    <tr>\n",
       "      <th>15</th>\n",
       "      <td>make</td>\n",
       "      <td>course 0</td>\n",
       "      <td>Sentence 2</td>\n",
       "      <td>O</td>\n",
       "    </tr>\n",
       "    <tr>\n",
       "      <th>16</th>\n",
       "      <td>accurate</td>\n",
       "      <td>course 0</td>\n",
       "      <td>Sentence 2</td>\n",
       "      <td>O</td>\n",
       "    </tr>\n",
       "    <tr>\n",
       "      <th>17</th>\n",
       "      <td>predictions</td>\n",
       "      <td>course 0</td>\n",
       "      <td>Sentence 2</td>\n",
       "      <td>O</td>\n",
       "    </tr>\n",
       "    <tr>\n",
       "      <th>18</th>\n",
       "      <td>make</td>\n",
       "      <td>course 0</td>\n",
       "      <td>Sentence 3</td>\n",
       "      <td>O</td>\n",
       "    </tr>\n",
       "    <tr>\n",
       "      <th>19</th>\n",
       "      <td>powerful</td>\n",
       "      <td>course 0</td>\n",
       "      <td>Sentence 3</td>\n",
       "      <td>O</td>\n",
       "    </tr>\n",
       "  </tbody>\n",
       "</table>\n",
       "</div>"
      ],
      "text/plain": [
       "           word    course    sentence      tag\n",
       "0        master  course 0  Sentence 0        O\n",
       "1       machine  course 0  Sentence 0  B-skill\n",
       "2      learning  course 0  Sentence 0  I-skill\n",
       "3            on  course 0  Sentence 0        O\n",
       "4        python  course 0  Sentence 0  B-skill\n",
       "5             r  course 0  Sentence 0        O\n",
       "6          have  course 0  Sentence 1        O\n",
       "7             a  course 0  Sentence 1        O\n",
       "8         great  course 0  Sentence 1        O\n",
       "9     intuition  course 0  Sentence 1        O\n",
       "10           of  course 0  Sentence 1        O\n",
       "11         many  course 0  Sentence 1        O\n",
       "12      machine  course 0  Sentence 1  B-skill\n",
       "13     learning  course 0  Sentence 1  I-skill\n",
       "14       models  course 0  Sentence 1        O\n",
       "15         make  course 0  Sentence 2        O\n",
       "16     accurate  course 0  Sentence 2        O\n",
       "17  predictions  course 0  Sentence 2        O\n",
       "18         make  course 0  Sentence 3        O\n",
       "19     powerful  course 0  Sentence 3        O"
      ]
     },
     "execution_count": 2,
     "metadata": {},
     "output_type": "execute_result"
    }
   ],
   "source": [
    "data = pd.read_excel('ML_data.xlsx')\n",
    "data.head(20)"
   ]
  },
  {
   "cell_type": "code",
   "execution_count": 3,
   "metadata": {},
   "outputs": [
    {
     "name": "stdout",
     "output_type": "stream",
     "text": [
      "Unique words in corpus: 651\n",
      "Unique tags in corpus: 3\n"
     ]
    }
   ],
   "source": [
    "print(\"Unique words in corpus:\", data['word'].nunique())\n",
    "print(\"Unique tags in corpus:\", data['tag'].nunique())"
   ]
  },
  {
   "cell_type": "code",
   "execution_count": 4,
   "metadata": {},
   "outputs": [],
   "source": [
    "words = list(set(data[\"word\"].values))\n",
    "words.append(\"ENDPAD\")\n",
    "num_words = len(words)"
   ]
  },
  {
   "cell_type": "code",
   "execution_count": 5,
   "metadata": {},
   "outputs": [],
   "source": [
    "tags = list(set(data[\"tag\"].values))\n",
    "num_tags = len(tags)"
   ]
  },
  {
   "cell_type": "code",
   "execution_count": 6,
   "metadata": {},
   "outputs": [],
   "source": [
    "def sentence_integrate(data):\n",
    "    agg_func = lambda s: [(w, t) for w, t in zip(s[\"word\"].values.tolist(),\n",
    "                                                 s[\"tag\"].values.tolist())]\n",
    "    return data.groupby('sentence').apply(agg_func).tolist()"
   ]
  },
  {
   "cell_type": "code",
   "execution_count": 7,
   "metadata": {},
   "outputs": [],
   "source": [
    "sentences=sentence_integrate(data)"
   ]
  },
  {
   "cell_type": "code",
   "execution_count": 8,
   "metadata": {},
   "outputs": [
    {
     "data": {
      "text/plain": [
       "[('master', 'O'),\n",
       " ('machine', 'B-skill'),\n",
       " ('learning', 'I-skill'),\n",
       " ('on', 'O'),\n",
       " ('python', 'B-skill'),\n",
       " ('r', 'O')]"
      ]
     },
     "execution_count": 8,
     "metadata": {},
     "output_type": "execute_result"
    }
   ],
   "source": [
    "sentences[0]"
   ]
  },
  {
   "cell_type": "code",
   "execution_count": 9,
   "metadata": {},
   "outputs": [],
   "source": [
    "word2idx = {w: i+1 for i, w in enumerate(words)}\n",
    "tag2idx = {t: i for i, t in enumerate(tags)}"
   ]
  },
  {
   "cell_type": "code",
   "execution_count": 11,
   "metadata": {},
   "outputs": [],
   "source": [
    "from tensorflow.keras.preprocessing.sequence import pad_sequences\n",
    "\n",
    "max_len = 15\n",
    "\n",
    "X = [[word2idx[w[0]]-1 for w in s] for s in sentences]\n",
    "X = pad_sequences(maxlen=max_len, sequences=X, padding=\"post\", value=num_words-1)\n",
    "\n",
    "y = [[tag2idx[w[1]] for w in s] for s in sentences]\n",
    "y = pad_sequences(maxlen=max_len, sequences=y, padding=\"post\", value=tag2idx[\"O\"])"
   ]
  },
  {
   "cell_type": "code",
   "execution_count": 12,
   "metadata": {},
   "outputs": [],
   "source": [
    "from sklearn.model_selection import train_test_split\n",
    "x_train, x_test, y_train, y_test = train_test_split(X, y, test_size=0.2, random_state=1)"
   ]
  },
  {
   "cell_type": "code",
   "execution_count": 13,
   "metadata": {},
   "outputs": [],
   "source": [
    "from tensorflow.keras import Model, Input\n",
    "from tensorflow.keras.layers import LSTM, Embedding, Dense\n",
    "from tensorflow.keras.layers import InputLayer, TimeDistributed, SpatialDropout1D, Bidirectional\n",
    "from tensorflow import keras"
   ]
  },
  {
   "cell_type": "code",
   "execution_count": 14,
   "metadata": {},
   "outputs": [
    {
     "name": "stdout",
     "output_type": "stream",
     "text": [
      "Model: \"sequential\"\n",
      "_________________________________________________________________\n",
      " Layer (type)                Output Shape              Param #   \n",
      "=================================================================\n",
      " embedding (Embedding)       (None, 15, 15)            9780      \n",
      "                                                                 \n",
      " spatial_dropout1d (SpatialD  (None, 15, 15)           0         \n",
      " ropout1D)                                                       \n",
      "                                                                 \n",
      " bidirectional (Bidirectiona  (None, 15, 200)          92800     \n",
      " l)                                                              \n",
      "                                                                 \n",
      "=================================================================\n",
      "Total params: 102,580\n",
      "Trainable params: 102,580\n",
      "Non-trainable params: 0\n",
      "_________________________________________________________________\n"
     ]
    }
   ],
   "source": [
    "model = keras.Sequential()\n",
    "model.add(InputLayer((max_len)))\n",
    "model.add(Embedding(input_dim=num_words, output_dim=max_len, input_length=max_len))\n",
    "model.add(SpatialDropout1D(0.1))\n",
    "model.add( Bidirectional(LSTM(units=100, return_sequences=True, recurrent_dropout=0.1)))\n",
    "\n",
    "model.summary()"
   ]
  },
  {
   "cell_type": "code",
   "execution_count": 15,
   "metadata": {},
   "outputs": [],
   "source": [
    "model.compile(optimizer=\"adam\",\n",
    "              loss=\"sparse_categorical_crossentropy\",\n",
    "              metrics=[\"accuracy\"])"
   ]
  },
  {
   "cell_type": "code",
   "execution_count": 16,
   "metadata": {
    "scrolled": false
   },
   "outputs": [
    {
     "name": "stdout",
     "output_type": "stream",
     "text": [
      "Epoch 1/3\n",
      "5/5 [==============================] - 4s 139ms/step - loss: 5.4780 - accuracy: 0.2310 - val_loss: 3.2511 - val_accuracy: 0.6991\n",
      "Epoch 2/3\n",
      "5/5 [==============================] - 0s 19ms/step - loss: 2.7779 - accuracy: 0.7505 - val_loss: 2.0574 - val_accuracy: 0.8171\n",
      "Epoch 3/3\n",
      "5/5 [==============================] - 0s 19ms/step - loss: 1.7008 - accuracy: 0.8297 - val_loss: 1.2731 - val_accuracy: 0.8598\n"
     ]
    }
   ],
   "source": [
    "history = model.fit(\n",
    "    x=x_train,\n",
    "    y=y_train,\n",
    "    validation_data=(x_test,y_test),\n",
    "    batch_size=32,\n",
    "    epochs=3,\n",
    "    verbose=1\n",
    ")"
   ]
  },
  {
   "cell_type": "code",
   "execution_count": 34,
   "metadata": {},
   "outputs": [
    {
     "name": "stdout",
     "output_type": "stream",
     "text": [
      "This is sentence: 17\n",
      "1/1 [==============================] - 0s 14ms/step\n",
      "Word           True \t Pred\n",
      "\n",
      "------------------------------\n",
      "sagemaker      O\tO\n",
      "builtin        O\tO\n",
      "algorithms     O\tO\n",
      "such           O\tO\n",
      "as             O\tO\n",
      "linear         O\tO\n",
      "learner        O\tO\n",
      "xgboost        O\tO\n",
      "principal      O\tO\n",
      "component      O\tO\n",
      "analysis       O\tO\n",
      "pca            O\tO\n",
      "and            O\tO\n",
      "knearest       O\tO\n",
      "neighbors      O\tO\n"
     ]
    }
   ],
   "source": [
    "i = np.random.randint(0, x_test.shape[0])\n",
    "print(\"This is sentence:\",i)\n",
    "p = model.predict(np.array([x_test[i]]))\n",
    "p = np.argmax(p, axis=-1)\n",
    "\n",
    "print(\"{:15}{:5}\\t {}\\n\".format(\"Word\", \"True\", \"Pred\"))\n",
    "print(\"-\" *30)\n",
    "for w, true, pred in zip(x_test[i], y_test[i], p[0]):\n",
    "    print(\"{:15}{}\\t{}\".format(words[w], tags[true], tags[pred]))"
   ]
  }
 ],
 "metadata": {
  "kernelspec": {
   "display_name": "Python 3",
   "language": "python",
   "name": "python3"
  },
  "language_info": {
   "codemirror_mode": {
    "name": "ipython",
    "version": 3
   },
   "file_extension": ".py",
   "mimetype": "text/x-python",
   "name": "python",
   "nbconvert_exporter": "python",
   "pygments_lexer": "ipython3",
   "version": "3.8.5"
  }
 },
 "nbformat": 4,
 "nbformat_minor": 4
}
